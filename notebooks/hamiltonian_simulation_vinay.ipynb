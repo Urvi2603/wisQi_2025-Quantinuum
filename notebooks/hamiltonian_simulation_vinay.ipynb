{
  "cells": [
    {
      "cell_type": "code",
      "source": [
        "%pip install pytket pytket-qiskit --quiet"
      ],
      "metadata": {
        "id": "dG58CjxGa7_V",
        "outputId": "89cd4cd5-0e5b-4ecf-9a92-1e5e5641eeb0",
        "colab": {
          "base_uri": "https://localhost:8080/"
        }
      },
      "execution_count": 1,
      "outputs": [
        {
          "output_type": "stream",
          "name": "stdout",
          "text": [
            "\u001b[2K     \u001b[90m━━━━━━━━━━━━━━━━━━━━━━━━━━━━━━━━━━━━━━━━\u001b[0m \u001b[32m149.4/149.4 kB\u001b[0m \u001b[31m3.0 MB/s\u001b[0m eta \u001b[36m0:00:00\u001b[0m\n",
            "\u001b[2K   \u001b[90m━━━━━━━━━━━━━━━━━━━━━━━━━━━━━━━━━━━━━━━━\u001b[0m \u001b[32m8.4/8.4 MB\u001b[0m \u001b[31m68.9 MB/s\u001b[0m eta \u001b[36m0:00:00\u001b[0m\n",
            "\u001b[2K   \u001b[90m━━━━━━━━━━━━━━━━━━━━━━━━━━━━━━━━━━━━━━━━\u001b[0m \u001b[32m55.9/55.9 kB\u001b[0m \u001b[31m3.8 MB/s\u001b[0m eta \u001b[36m0:00:00\u001b[0m\n",
            "\u001b[2K   \u001b[90m━━━━━━━━━━━━━━━━━━━━━━━━━━━━━━━━━━━━━━━━\u001b[0m \u001b[32m111.0/111.0 kB\u001b[0m \u001b[31m9.8 MB/s\u001b[0m eta \u001b[36m0:00:00\u001b[0m\n",
            "\u001b[2K   \u001b[90m━━━━━━━━━━━━━━━━━━━━━━━━━━━━━━━━━━━━━━━━\u001b[0m \u001b[32m6.8/6.8 MB\u001b[0m \u001b[31m63.6 MB/s\u001b[0m eta \u001b[36m0:00:00\u001b[0m\n",
            "\u001b[2K   \u001b[90m━━━━━━━━━━━━━━━━━━━━━━━━━━━━━━━━━━━━━━━━\u001b[0m \u001b[32m12.4/12.4 MB\u001b[0m \u001b[31m96.4 MB/s\u001b[0m eta \u001b[36m0:00:00\u001b[0m\n",
            "\u001b[2K   \u001b[90m━━━━━━━━━━━━━━━━━━━━━━━━━━━━━━━━━━━━━━━━\u001b[0m \u001b[32m3.0/3.0 MB\u001b[0m \u001b[31m84.2 MB/s\u001b[0m eta \u001b[36m0:00:00\u001b[0m\n",
            "\u001b[2K   \u001b[90m━━━━━━━━━━━━━━━━━━━━━━━━━━━━━━━━━━━━━━━━\u001b[0m \u001b[32m119.4/119.4 kB\u001b[0m \u001b[31m9.9 MB/s\u001b[0m eta \u001b[36m0:00:00\u001b[0m\n",
            "\u001b[2K   \u001b[90m━━━━━━━━━━━━━━━━━━━━━━━━━━━━━━━━━━━━━━━━\u001b[0m \u001b[32m340.8/340.8 kB\u001b[0m \u001b[31m26.2 MB/s\u001b[0m eta \u001b[36m0:00:00\u001b[0m\n",
            "\u001b[2K   \u001b[90m━━━━━━━━━━━━━━━━━━━━━━━━━━━━━━━━━━━━━━━━\u001b[0m \u001b[32m434.9/434.9 kB\u001b[0m \u001b[31m26.7 MB/s\u001b[0m eta \u001b[36m0:00:00\u001b[0m\n",
            "\u001b[2K   \u001b[90m━━━━━━━━━━━━━━━━━━━━━━━━━━━━━━━━━━━━━━━━\u001b[0m \u001b[32m2.1/2.1 MB\u001b[0m \u001b[31m74.7 MB/s\u001b[0m eta \u001b[36m0:00:00\u001b[0m\n",
            "\u001b[2K   \u001b[90m━━━━━━━━━━━━━━━━━━━━━━━━━━━━━━━━━━━━━━━━\u001b[0m \u001b[32m2.1/2.1 MB\u001b[0m \u001b[31m63.4 MB/s\u001b[0m eta \u001b[36m0:00:00\u001b[0m\n",
            "\u001b[2K   \u001b[90m━━━━━━━━━━━━━━━━━━━━━━━━━━━━━━━━━━━━━━━━\u001b[0m \u001b[32m49.5/49.5 kB\u001b[0m \u001b[31m3.7 MB/s\u001b[0m eta \u001b[36m0:00:00\u001b[0m\n",
            "\u001b[2K   \u001b[90m━━━━━━━━━━━━━━━━━━━━━━━━━━━━━━━━━━━━━━━━\u001b[0m \u001b[32m49.7/49.7 MB\u001b[0m \u001b[31m19.5 MB/s\u001b[0m eta \u001b[36m0:00:00\u001b[0m\n",
            "\u001b[2K   \u001b[90m━━━━━━━━━━━━━━━━━━━━━━━━━━━━━━━━━━━━━━━━\u001b[0m \u001b[32m69.4/69.4 kB\u001b[0m \u001b[31m5.7 MB/s\u001b[0m eta \u001b[36m0:00:00\u001b[0m\n",
            "\u001b[2K   \u001b[90m━━━━━━━━━━━━━━━━━━━━━━━━━━━━━━━━━━━━━━━━\u001b[0m \u001b[32m108.5/108.5 kB\u001b[0m \u001b[31m9.1 MB/s\u001b[0m eta \u001b[36m0:00:00\u001b[0m\n",
            "\u001b[2K   \u001b[90m━━━━━━━━━━━━━━━━━━━━━━━━━━━━━━━━━━━━━━━━\u001b[0m \u001b[32m130.5/130.5 kB\u001b[0m \u001b[31m10.6 MB/s\u001b[0m eta \u001b[36m0:00:00\u001b[0m\n",
            "\u001b[?25h"
          ]
        }
      ]
    },
    {
      "cell_type": "markdown",
      "metadata": {
        "id": "MA-GpZZCa5XP"
      },
      "source": [
        "# Hamiltonian Simulation\n",
        "\n",
        "In this part of the challenge we study the evolution of closed quantum systems, i.e. systems that are described by a Hamiltonian operator $H$.\n",
        "One important aspect of this is the so-called Trotterization of the time evolution circuit, which we will explain in more detail below.\n",
        "\n",
        "Useful literature:\n",
        "- [1] A. Montanaro, Quantum Computation, Lecture notes, Chapter 7, https://people.maths.bris.ac.uk/~csxam/teaching/qc2020/lecturenotes.pdf\n",
        "- [2] T. Prosen, \"Exact nonequilibrium steady state of a strongly driven open XXZ chain\", arXiv:1106.2978, https://arxiv.org/abs/1106.2978 (2011)\n",
        "- [3] A. M. Childs et al., \"A Theory of Trotter Error\", https://arxiv.org/abs/1912.08854 (2021)\n",
        "- [4] Qiskit Docs, https://docs.quantum.ibm.com/api/qiskit/qiskit.synthesis.SuzukiTrotter\n",
        "- [5] Quantinuum Docs, https://docs.quantinuum.com/h-series/trainings/getting_started/pytket_quantinuum/Quantinuum_native_gate_compilation.html"
      ]
    },
    {
      "cell_type": "code",
      "execution_count": 2,
      "metadata": {
        "id": "7l-7LDtZa5XT"
      },
      "outputs": [],
      "source": [
        "# configure some visualisations\n",
        "\n",
        "from pytket.circuit.display import get_circuit_renderer\n",
        "\n",
        "circuit_renderer = get_circuit_renderer()\n",
        "\n",
        "circuit_renderer.set_render_options(zx_style=False)\n",
        "circuit_renderer.set_render_options(crop_params=False)\n",
        "circuit_renderer.save_render_options()"
      ]
    },
    {
      "cell_type": "markdown",
      "metadata": {
        "id": "BUuPuuHKa5XV"
      },
      "source": [
        "## Background"
      ]
    },
    {
      "cell_type": "markdown",
      "metadata": {
        "id": "jVpiM-W1a5XW"
      },
      "source": [
        "##### Time evolution\n",
        "\n",
        "Quantum computers offer the potential to speedup simulations of systems in which quantum mechanical effects play a significant role.\n",
        "\n",
        "In quantum mechanics, the evolution of a system is governed by the Hamiltonian $H$. This is a Hermitian operator whose eigenvalues give the energy spectrum of the system. In what follows we will assume that a Hamiltonian can be represented as a ($2^N \\times 2^N$) matrix where $N$ is the number of qubits.\n",
        "\n",
        "The evolution of a pure quantum state is described by the Schrödinger equation\n",
        "\n",
        "$$\n",
        " i \\hbar \\frac{d}{dt} | \\psi(t)\\rangle = H |\\psi(t)\\rangle\n",
        "$$\n",
        "We wet $\\hbar = 1$ in the following.\n",
        "\n",
        "In general $H$ could be time dependent but we will not consider this case for now.\n",
        "\n",
        "\n",
        "It can be shown that the solution to this equation is\n",
        "\n",
        "$$\n",
        "|\\psi(t)\\rangle = e^{-i H t} |\\psi(0)\\rangle = U(t) |\\psi(0)\\rangle\\,, \\quad U(t) := e^{-i H t}\n",
        "$$\n",
        "\n",
        "We call the operator $U(t)$ the unitary time evolution operator.\n",
        "\n",
        "Observe that we are taking the exponential of the Hamiltonian matrix $H$. We can make sense of this using the series expansion of the exponential function.\n",
        "\n",
        "$$\n",
        "e^A = \\sum_{k=0}^\\infty \\frac{A^k}{k!}\\,.\n",
        "$$\n",
        "\n",
        "Now in order to simulate the evolution of a Hamiltonian $H$ on a quantum computer we need to express the time evolution operator in terms of elementary quantum gates.\n",
        "\n",
        "##### Decompososing Hamiltonians into Pauli operators\n",
        "\n",
        "Towards this goal, it is often useful to express $H$ as a linear combination of Pauli strings.\n",
        "$$\n",
        "H = \\sum_{j = 0}^{2^N -1} \\alpha_j P_j\\,, \\quad \\alpha_j \\in \\mathbb{R}\n",
        "$$\n",
        "Here each Pauli string $P_j$ is a tensor product of $N$ Pauli operators\n",
        "$$\n",
        "P_j = \\bigotimes_{j=0}^N \\sigma_j\\,, \\quad \\sigma_j \\in \\{I, X, Y, Z\\} \\,.\n",
        "$$\n",
        "The operators $P_j$ form a basis for all matrices of dimension $(2^N \\times 2^N)$. This means that any $N$ qubit operator can be expressed as a linear combination of Pauli strings $P_j$ with coefficients $\\alpha_j$.\n",
        "\n",
        "The $X, Y \\, \\text{and} \\, Z$ operators have the usual definitions\n",
        "$$\n",
        "X =\n",
        "\\begin{pmatrix}\n",
        "0 & 1 \\\\\n",
        "1 & 0\n",
        "\\end{pmatrix}\\,, \\quad Y =\n",
        "\\begin{pmatrix}\n",
        "0 & -i \\\\\n",
        "i & 0\n",
        "\\end{pmatrix}\\,, \\quad Z =\n",
        "\\begin{pmatrix}\n",
        "1 & 0 \\\\\n",
        "0 & -1\n",
        "\\end{pmatrix}\\,, \\quad\n",
        "I =\n",
        "\\begin{pmatrix}\n",
        "1 & 0 \\\\\n",
        "0 & 1\n",
        "\\end{pmatrix}\n",
        "$$\n",
        "\n",
        "Note that in general the terms of $H$, i.e. the different Pauli strings, do not commute with each other. This means that their commutator\n",
        "$$\n",
        "[P_i , P_j] := P_iP_j - P_jP_i \\neq 0\n",
        "$$\n",
        "is not zero. If for any two operators $A, B$ we have $[A, B] := AB - BA = 0$, both operators \"commute\", i.e. $AB = BA$.\n",
        "For commuting operators $A, B$, we have $e^{-it(A + B)} = e^{-itA}e^{-itB}$, i.e. the exponential factorizes. For Pauli strings $P_i$, each $e^{-itP_i}$ can be directly implemented as a quantum gate (as we see below), thus for Hamiltonians build from commuting Pauli strings, we have a straight-forward recipe to construct the time evolution operator $e^{-itH}$."
      ]
    },
    {
      "cell_type": "markdown",
      "metadata": {
        "id": "8pA0aVKpa5XZ"
      },
      "source": [
        "## Example: The XXZ Heisenberg model\n",
        "\n",
        "Now let's consider a concrete example of a Hamiltonian. We can start with the $XXZ$ model.\n",
        "$$\n",
        "H_{XXZ} = \\sum_{k=1}^{N-1} X^{(k)} X^{(k+1)} + Y^{(k)}  Y^{(k+1)} + \\Delta (Z^{(k)} Z^{(k+1)} )\n",
        "$$\n",
        "with $\\Delta \\in \\mathbb{R}$. Here $A^{(k)} = I \\otimes \\cdots \\otimes I \\otimes A \\otimes I \\otimes \\cdots \\otimes I$, where $A \\in \\lbrace X, Y, Z\\rbrace$ is inserted on the $k$-th position, i.e. it is acting on the $k$-th qubits. Identities $I$ mean that no operations are performed on those qubits.\n",
        "\n",
        "\n",
        "This model describes a chain of $N$ qubits (sometimes also called spins), where each pair of neighboring spins $(i, i+1)$ interacts through the terms $XX$, $YY$ and $ZZ$.\n",
        "\n"
      ]
    },
    {
      "cell_type": "markdown",
      "metadata": {
        "id": "gUhXWwGYa5XZ"
      },
      "source": [
        "\n",
        "In the following we give an example how to implement this Hamiltonian in pytket.\n",
        "\n",
        "[See also [2], which will become important for the second part of this challenge on Lindblad simulation. They are using a slightly different form of the Hamiltonian, given below their Eq. (1). Show that this can be recast into the form given above.]"
      ]
    },
    {
      "cell_type": "markdown",
      "metadata": {
        "id": "igxKdv9Ia5Xb"
      },
      "source": [
        "With `._dict` we obtain a nice overview of all the Pauli strings $P_i$ and coefficients $\\alpha_i$."
      ]
    },
    {
      "cell_type": "code",
      "execution_count": 3,
      "metadata": {
        "id": "raci2-LCa5Xc"
      },
      "outputs": [],
      "source": [
        "from pytket.utils import QubitPauliOperator\n",
        "from pytket.pauli import Pauli, QubitPauliString\n",
        "import networkx as nx\n",
        "from pytket.circuit import Qubit\n",
        "\n",
        "def get_xxz_chain_hamiltonian(n_qubits: int, Delta_ZZ: float) -> QubitPauliOperator:\n",
        "    sites = nx.path_graph(n_qubits)\n",
        "    qpo_dict = {}\n",
        "    for e in sites.edges:\n",
        "        zz_term = QubitPauliString([Qubit(e[0]), Qubit(e[1])], [Pauli.Z, Pauli.Z])\n",
        "        xx_term = QubitPauliString([Qubit(e[0]), Qubit(e[1])], [Pauli.X, Pauli.X])\n",
        "        yy_term = QubitPauliString([Qubit(e[0]), Qubit(e[1])], [Pauli.Y, Pauli.Y])\n",
        "        qpo_dict[zz_term] = Delta_ZZ\n",
        "        qpo_dict[xx_term] = 1.0\n",
        "        qpo_dict[yy_term] = 1.0\n",
        "\n",
        "    return QubitPauliOperator(qpo_dict)"
      ]
    },
    {
      "cell_type": "code",
      "execution_count": 4,
      "metadata": {
        "id": "8OQKmXZGa5Xd"
      },
      "outputs": [],
      "source": [
        "n_qubits = 5\n",
        "# Delta_ZZ = 1.72\n",
        "Delta_ZZ = 0.5\n",
        "\n",
        "xxz_ham = get_xxz_chain_hamiltonian(n_qubits=n_qubits, Delta_ZZ=Delta_ZZ)"
      ]
    },
    {
      "cell_type": "code",
      "execution_count": 5,
      "metadata": {
        "id": "nhFbo46Ea5Xd",
        "outputId": "4203545a-c612-4f6c-8c21-49227daadf2b",
        "colab": {
          "base_uri": "https://localhost:8080/"
        }
      },
      "outputs": [
        {
          "output_type": "execute_result",
          "data": {
            "text/plain": [
              "{(Zq[0], Zq[1]): 0.500000000000000,\n",
              " (Xq[0], Xq[1]): 1.00000000000000,\n",
              " (Yq[0], Yq[1]): 1.00000000000000,\n",
              " (Zq[1], Zq[2]): 0.500000000000000,\n",
              " (Xq[1], Xq[2]): 1.00000000000000,\n",
              " (Yq[1], Yq[2]): 1.00000000000000,\n",
              " (Zq[2], Zq[3]): 0.500000000000000,\n",
              " (Xq[2], Xq[3]): 1.00000000000000,\n",
              " (Yq[2], Yq[3]): 1.00000000000000,\n",
              " (Zq[3], Zq[4]): 0.500000000000000,\n",
              " (Xq[3], Xq[4]): 1.00000000000000,\n",
              " (Yq[3], Yq[4]): 1.00000000000000}"
            ]
          },
          "metadata": {},
          "execution_count": 5
        }
      ],
      "source": [
        "xxz_ham._dict"
      ]
    },
    {
      "cell_type": "markdown",
      "metadata": {
        "id": "Ip1ekuO_a5Xe"
      },
      "source": [
        "You can get the numpy or scipy matrix representations of the QubitPauliOperator with"
      ]
    },
    {
      "cell_type": "code",
      "execution_count": 6,
      "metadata": {
        "id": "Qho16GGua5Xf",
        "outputId": "50567eca-5cb6-470b-fb3f-12f9da6284f7",
        "colab": {
          "base_uri": "https://localhost:8080/"
        }
      },
      "outputs": [
        {
          "output_type": "execute_result",
          "data": {
            "text/plain": [
              "(32, 32)"
            ]
          },
          "metadata": {},
          "execution_count": 6
        }
      ],
      "source": [
        "xxz_ham_matrix = xxz_ham.to_sparse_matrix(qubits=[Qubit(i) for i in range(n_qubits)]).todense()\n",
        "xxz_ham_matrix.shape"
      ]
    },
    {
      "cell_type": "markdown",
      "metadata": {
        "id": "Wpa76b0xa5Xg"
      },
      "source": [
        "Now we want to synthesise a circuit to implement the time evolution operator for $H_{XXZ}$\n",
        "$$\n",
        "U(t) = e^{-it \\sum_{k=1}^{N-1} X^{(k)} X^{(k+1)} + Y^{(k)}  Y^{(k+1)} + \\Delta (Z^{(k)} Z^{(k+1)} ) }\n",
        "$$\n",
        "\n",
        "In fact, the different terms in the XXZ Hamiltonian above commute with each other, which means that\n",
        "$$\n",
        "e^{-itH_{XXZ}} = \\prod_{k=1}^{N-1} e^{-it X^{(k)} X^{(k+1)}}  e^{-it Y^{(k)}  Y^{(k+1)}}  e^{-it \\Delta \\big( Z^{(k)} Z^{(k+1)} \\big)} .\n",
        "$$\n",
        "Each of the exponentials can be implemented as a quantum circuit and we obtain the full time evolution circuit by concatenating all of these circuits.\n",
        "\n",
        "First lets look at a circuit which simulates the evolution $e^{-it \\Delta Z^{(1)} Z^{(2)}} $.\n",
        "We can show that the circuit below does the job."
      ]
    },
    {
      "cell_type": "code",
      "execution_count": 7,
      "metadata": {
        "id": "hdMjegSLa5Xg",
        "outputId": "a4c5fd74-1dc1-48f4-e05a-1bfc11fa5c82",
        "colab": {
          "base_uri": "https://localhost:8080/",
          "height": 417
        }
      },
      "outputs": [
        {
          "output_type": "display_data",
          "data": {
            "text/plain": [
              "<IPython.core.display.HTML object>"
            ],
            "text/html": [
              "\n",
              "\n",
              "\n",
              "\n",
              "\n",
              "\n",
              "<div style=\"resize: vertical; overflow: auto; height: 400px; display: block\">\n",
              "    <iframe srcdoc=\"\n",
              "&lt;!DOCTYPE html&gt;\n",
              "&lt;html lang=&#34;en&#34;&gt;\n",
              "&lt;head&gt;\n",
              "    &lt;meta charset=&#34;UTF-8&#34;&gt;\n",
              "    &lt;!-- Download Vue 3--&gt;\n",
              "&lt;script type=&#34;application/javascript&#34; src=&#34;https://cdn.jsdelivr.net/npm/vue@3&#34;&gt;&lt;/script&gt;\n",
              "&lt;!-- Download Circuit Renderer with styles --&gt;\n",
              "&lt;script type=&#34;application/javascript&#34; src=&#34;https://unpkg.com/pytket-circuit-renderer@0.10/dist/pytket-circuit-renderer.umd.js&#34;&gt;&lt;/script&gt;\n",
              "&lt;link rel=&#34;stylesheet&#34; href=&#34;https://unpkg.com/pytket-circuit-renderer@0.10/dist/pytket-circuit-renderer.css&#34;&gt;\n",
              "&lt;/head&gt;\n",
              "&lt;body&gt;\n",
              "\n",
              "\n",
              "    &lt;div id=&#34;circuit-display-vue-container-a99a7958-38af-4726-8a53-e0445f20c861&#34; class=&#34;pytket-circuit-display-container&#34;&gt;\n",
              "        &lt;div style=&#34;display: none&#34;&gt;\n",
              "            &lt;div id=&#34;circuit-json-to-display&#34;&gt;{&#34;bits&#34;: [], &#34;commands&#34;: [{&#34;args&#34;: [[&#34;q&#34;, [0]], [&#34;q&#34;, [1]]], &#34;op&#34;: {&#34;type&#34;: &#34;CX&#34;}}, {&#34;args&#34;: [[&#34;q&#34;, [1]]], &#34;op&#34;: {&#34;params&#34;: [&#34;2*t*Delta&#34;], &#34;type&#34;: &#34;Rz&#34;}}, {&#34;args&#34;: [[&#34;q&#34;, [0]], [&#34;q&#34;, [1]]], &#34;op&#34;: {&#34;type&#34;: &#34;CX&#34;}}], &#34;created_qubits&#34;: [], &#34;discarded_qubits&#34;: [], &#34;implicit_permutation&#34;: [[[&#34;q&#34;, [0]], [&#34;q&#34;, [0]]], [[&#34;q&#34;, [1]], [&#34;q&#34;, [1]]]], &#34;phase&#34;: &#34;0.0&#34;, &#34;qubits&#34;: [[&#34;q&#34;, [0]], [&#34;q&#34;, [1]]]}&lt;/div&gt;\n",
              "        &lt;/div&gt;\n",
              "        &lt;circuit-display-container\n",
              "                :circuit-element-str=&#34;&#39;#circuit-json-to-display&#39;&#34;\n",
              "                :init-render-options=&#34;initRenderOptions&#34;\n",
              "                view-format=&#34;None&#34;\n",
              "        &gt;&lt;/circuit-display-container&gt;\n",
              "    &lt;/div&gt;\n",
              "    &lt;script type=&#34;application/javascript&#34;&gt;\n",
              "      const circuitRendererUid = &#34;a99a7958-38af-4726-8a53-e0445f20c861&#34;;\n",
              "      const displayOptions = JSON.parse(&#39;{}&#39;);\n",
              "\n",
              "      // Script to initialise the circuit renderer app\n",
              "\n",
              "const { createApp } = Vue;\n",
              "const circuitDisplayContainer = window[&#34;pytket-circuit-renderer&#34;].default;\n",
              "// Init variables to be shared between circuit display instances\n",
              "if (typeof window.pytketCircuitDisplays === &#34;undefined&#34;) {\n",
              "    window.pytketCircuitDisplays = {};\n",
              "}\n",
              "// Create the root Vue component\n",
              "const app = createApp({\n",
              "    delimiters: [&#39;[[#&#39;, &#39;#]]&#39;],\n",
              "    components: { circuitDisplayContainer },\n",
              "    data () {\n",
              "      return {\n",
              "        initRenderOptions: displayOptions,\n",
              "      }\n",
              "    }\n",
              "})\n",
              "app.config.unwrapInjectedRef = true;\n",
              "app.mount(&#34;#circuit-display-vue-container-&#34;+circuitRendererUid);\n",
              "window.pytketCircuitDisplays[circuitRendererUid] = app;\n",
              "    &lt;/script&gt;\n",
              "\n",
              "\n",
              "\n",
              "&lt;/body&gt;\n",
              "&lt;/html&gt;\n",
              "\"\n",
              "            width=\"100%\" height=\"100%\"\n",
              "            style=\"border: none; outline: none; overflow: auto\"></iframe>\n",
              "</div>\n",
              "\n"
            ]
          },
          "metadata": {}
        }
      ],
      "source": [
        "from pytket import Circuit\n",
        "from sympy import symbols\n",
        "from pytket.circuit.display import render_circuit_jupyter as draw\n",
        "\n",
        "delta, t = symbols(\"Delta, t\")\n",
        "\n",
        "circ = Circuit(2)\n",
        "circ.CX(0, 1)\n",
        "circ.Rz(2*delta * t, 1)\n",
        "circ.CX(0, 1)\n",
        "\n",
        "draw(circ)"
      ]
    },
    {
      "cell_type": "markdown",
      "metadata": {
        "id": "y4RGogtSa5Xh"
      },
      "source": [
        "Similarly for a term like $e^{-it \\Delta Z^{(1)} Z^{(2)} Z^{(3)}} $ the three qubit circuit works\n"
      ]
    },
    {
      "cell_type": "code",
      "execution_count": 8,
      "metadata": {
        "id": "OYpbP_8Za5Xh",
        "outputId": "0b97680f-fdb7-4518-aa09-fe94306db5cd",
        "colab": {
          "base_uri": "https://localhost:8080/",
          "height": 417
        }
      },
      "outputs": [
        {
          "output_type": "display_data",
          "data": {
            "text/plain": [
              "<IPython.core.display.HTML object>"
            ],
            "text/html": [
              "\n",
              "\n",
              "\n",
              "\n",
              "\n",
              "\n",
              "<div style=\"resize: vertical; overflow: auto; height: 400px; display: block\">\n",
              "    <iframe srcdoc=\"\n",
              "&lt;!DOCTYPE html&gt;\n",
              "&lt;html lang=&#34;en&#34;&gt;\n",
              "&lt;head&gt;\n",
              "    &lt;meta charset=&#34;UTF-8&#34;&gt;\n",
              "    &lt;!-- Download Vue 3--&gt;\n",
              "&lt;script type=&#34;application/javascript&#34; src=&#34;https://cdn.jsdelivr.net/npm/vue@3&#34;&gt;&lt;/script&gt;\n",
              "&lt;!-- Download Circuit Renderer with styles --&gt;\n",
              "&lt;script type=&#34;application/javascript&#34; src=&#34;https://unpkg.com/pytket-circuit-renderer@0.10/dist/pytket-circuit-renderer.umd.js&#34;&gt;&lt;/script&gt;\n",
              "&lt;link rel=&#34;stylesheet&#34; href=&#34;https://unpkg.com/pytket-circuit-renderer@0.10/dist/pytket-circuit-renderer.css&#34;&gt;\n",
              "&lt;/head&gt;\n",
              "&lt;body&gt;\n",
              "\n",
              "\n",
              "    &lt;div id=&#34;circuit-display-vue-container-69c5dd46-f75c-42fc-aa8a-b9cfa235647a&#34; class=&#34;pytket-circuit-display-container&#34;&gt;\n",
              "        &lt;div style=&#34;display: none&#34;&gt;\n",
              "            &lt;div id=&#34;circuit-json-to-display&#34;&gt;{&#34;bits&#34;: [], &#34;commands&#34;: [{&#34;args&#34;: [[&#34;q&#34;, [0]], [&#34;q&#34;, [1]]], &#34;op&#34;: {&#34;type&#34;: &#34;CX&#34;}}, {&#34;args&#34;: [[&#34;q&#34;, [1]], [&#34;q&#34;, [2]]], &#34;op&#34;: {&#34;type&#34;: &#34;CX&#34;}}, {&#34;args&#34;: [[&#34;q&#34;, [2]]], &#34;op&#34;: {&#34;params&#34;: [&#34;2*t*Delta&#34;], &#34;type&#34;: &#34;Rz&#34;}}, {&#34;args&#34;: [[&#34;q&#34;, [1]], [&#34;q&#34;, [2]]], &#34;op&#34;: {&#34;type&#34;: &#34;CX&#34;}}, {&#34;args&#34;: [[&#34;q&#34;, [0]], [&#34;q&#34;, [1]]], &#34;op&#34;: {&#34;type&#34;: &#34;CX&#34;}}], &#34;created_qubits&#34;: [], &#34;discarded_qubits&#34;: [], &#34;implicit_permutation&#34;: [[[&#34;q&#34;, [0]], [&#34;q&#34;, [0]]], [[&#34;q&#34;, [1]], [&#34;q&#34;, [1]]], [[&#34;q&#34;, [2]], [&#34;q&#34;, [2]]]], &#34;phase&#34;: &#34;0.0&#34;, &#34;qubits&#34;: [[&#34;q&#34;, [0]], [&#34;q&#34;, [1]], [&#34;q&#34;, [2]]]}&lt;/div&gt;\n",
              "        &lt;/div&gt;\n",
              "        &lt;circuit-display-container\n",
              "                :circuit-element-str=&#34;&#39;#circuit-json-to-display&#39;&#34;\n",
              "                :init-render-options=&#34;initRenderOptions&#34;\n",
              "                view-format=&#34;None&#34;\n",
              "        &gt;&lt;/circuit-display-container&gt;\n",
              "    &lt;/div&gt;\n",
              "    &lt;script type=&#34;application/javascript&#34;&gt;\n",
              "      const circuitRendererUid = &#34;69c5dd46-f75c-42fc-aa8a-b9cfa235647a&#34;;\n",
              "      const displayOptions = JSON.parse(&#39;{}&#39;);\n",
              "\n",
              "      // Script to initialise the circuit renderer app\n",
              "\n",
              "const { createApp } = Vue;\n",
              "const circuitDisplayContainer = window[&#34;pytket-circuit-renderer&#34;].default;\n",
              "// Init variables to be shared between circuit display instances\n",
              "if (typeof window.pytketCircuitDisplays === &#34;undefined&#34;) {\n",
              "    window.pytketCircuitDisplays = {};\n",
              "}\n",
              "// Create the root Vue component\n",
              "const app = createApp({\n",
              "    delimiters: [&#39;[[#&#39;, &#39;#]]&#39;],\n",
              "    components: { circuitDisplayContainer },\n",
              "    data () {\n",
              "      return {\n",
              "        initRenderOptions: displayOptions,\n",
              "      }\n",
              "    }\n",
              "})\n",
              "app.config.unwrapInjectedRef = true;\n",
              "app.mount(&#34;#circuit-display-vue-container-&#34;+circuitRendererUid);\n",
              "window.pytketCircuitDisplays[circuitRendererUid] = app;\n",
              "    &lt;/script&gt;\n",
              "\n",
              "\n",
              "\n",
              "&lt;/body&gt;\n",
              "&lt;/html&gt;\n",
              "\"\n",
              "            width=\"100%\" height=\"100%\"\n",
              "            style=\"border: none; outline: none; overflow: auto\"></iframe>\n",
              "</div>\n",
              "\n"
            ]
          },
          "metadata": {}
        }
      ],
      "source": [
        "circ1 = Circuit(3)\n",
        "circ1.CX(0, 1)\n",
        "circ1.CX(1, 2)\n",
        "circ1.Rz(2*delta * t, 2)\n",
        "circ1.CX(1, 2)\n",
        "circ1.CX(0, 1)\n",
        "\n",
        "draw(circ1)"
      ]
    },
    {
      "cell_type": "markdown",
      "metadata": {
        "id": "1KjksRZNa5Xh"
      },
      "source": [
        "Here, $\\mathrm{Rz}$ gate is defined as\n",
        "$$\n",
        "\\mathrm{Rz}(\\alpha) = e^{-\\frac12 i \\pi \\alpha Z} = \\left[\n",
        "    \\begin{array}{cc} e^{-\\frac12 i \\pi\\alpha} & 0 \\\\ 0 & e^{\\frac12 i\n",
        "    \\pi\\alpha} \\end{array} \\right] \\,.\n",
        "$$"
      ]
    },
    {
      "cell_type": "markdown",
      "metadata": {
        "id": "6LOBPbb8a5Xi"
      },
      "source": [
        "### Task 1: Implement the time evolution under the XXZ Hamiltonian.\n",
        "\n",
        "We can easily generate the time evolution under the XXZ Hamiltonian via\n",
        "$$\n",
        "e^{-itH_{XXZ}} = \\prod_{k=1}^{N-1} e^{-it X^{(k)}s X^{(k+1)}}  e^{-it Y^{(k)} Y^{(k+1)}}  e^{-it \\Delta \\big( Z^{(k)} Z^{(k+1)} \\big)} .\n",
        "$$\n",
        "\n",
        "For example, we can use pytket's build-in function `gen_term_sequence_circuit`. Note, you will have to multiply the Hamiltonian (a `QubitPauliOperator`) with the evolution time $t$ to perform the correct time evolution.\n",
        "\n",
        "- Implement the time evolution circuit under $H_{XXZ}$ for a given target time $t$.\n",
        "- Draw the circuit. In pytket you might want to use `DecomposeBoxes()` to visualize all the single- and two-qubit gates.\n",
        "- Explore different ways how to implement the circuit (see the hints below).\n",
        "- Use an empty circuit to initialize the time evolution circuit. I.e. our initial state is $\\ket{\\psi} = \\ket{0}^{\\otimes N}$.\n",
        "\n",
        "Hints:\n",
        "- Study the commutator relation between the two terms of $K_i$. What does this imply?\n",
        "- Alternatively, the two qubit gates $e^{-\\alpha X^{(i)} X^{(j)}}$ and $e^{-\\alpha Y^{(i)} Y^{(j)}}$ can be implemented in pytket via `XXPhase` and `YYPhase`.\n",
        "- Or you can also use pytket's `TK2` gate which implements and arbitrary angle SU(4) gate [x]."
      ]
    },
    {
      "cell_type": "code",
      "source": [
        "n_qubits = 5\n",
        "# Delta_ZZ = 1.72\n",
        "Delta_ZZ = 0.3\n",
        "\n",
        "xxz_ham = get_xxz_chain_hamiltonian(n_qubits=n_qubits, Delta_ZZ=Delta_ZZ)\n",
        "\n",
        "from pytket.utils import gen_term_sequence_circuit\n",
        "from pytket.passes import DecomposeBoxes\n",
        "\n",
        "ev_time = 0.2\n",
        "circ = Circuit(n_qubits=n_qubits, name=\" XXZ Hamiltonian Time evolution\")\n",
        "for i in  range(n_qubits):\n",
        "  circ.H(i)\n",
        "Ham = ev_time * xxz_ham\n",
        "f_ham = gen_term_sequence_circuit(operator=Ham,reference_state=circ)\n",
        "draw(f_ham)"
      ],
      "metadata": {
        "id": "VXpl2iVFU3U-",
        "outputId": "558b02b1-a834-47d3-9b15-1809bf3bbbe2",
        "colab": {
          "base_uri": "https://localhost:8080/",
          "height": 417
        }
      },
      "execution_count": 9,
      "outputs": [
        {
          "output_type": "display_data",
          "data": {
            "text/plain": [
              "<IPython.core.display.HTML object>"
            ],
            "text/html": [
              "\n",
              "\n",
              "\n",
              "\n",
              "\n",
              "\n",
              "<div style=\"resize: vertical; overflow: auto; height: 400px; display: block\">\n",
              "    <iframe srcdoc=\"\n",
              "&lt;!DOCTYPE html&gt;\n",
              "&lt;html lang=&#34;en&#34;&gt;\n",
              "&lt;head&gt;\n",
              "    &lt;meta charset=&#34;UTF-8&#34;&gt;\n",
              "    &lt;!-- Download Vue 3--&gt;\n",
              "&lt;script type=&#34;application/javascript&#34; src=&#34;https://cdn.jsdelivr.net/npm/vue@3&#34;&gt;&lt;/script&gt;\n",
              "&lt;!-- Download Circuit Renderer with styles --&gt;\n",
              "&lt;script type=&#34;application/javascript&#34; src=&#34;https://unpkg.com/pytket-circuit-renderer@0.10/dist/pytket-circuit-renderer.umd.js&#34;&gt;&lt;/script&gt;\n",
              "&lt;link rel=&#34;stylesheet&#34; href=&#34;https://unpkg.com/pytket-circuit-renderer@0.10/dist/pytket-circuit-renderer.css&#34;&gt;\n",
              "&lt;/head&gt;\n",
              "&lt;body&gt;\n",
              "\n",
              "\n",
              "    &lt;div id=&#34;circuit-display-vue-container-6446dd3c-42db-410d-b4cc-5f084a3c4daf&#34; class=&#34;pytket-circuit-display-container&#34;&gt;\n",
              "        &lt;div style=&#34;display: none&#34;&gt;\n",
              "            &lt;div id=&#34;circuit-json-to-display&#34;&gt;{&#34;bits&#34;: [], &#34;commands&#34;: [{&#34;args&#34;: [[&#34;q&#34;, [0]]], &#34;op&#34;: {&#34;type&#34;: &#34;H&#34;}}, {&#34;args&#34;: [[&#34;q&#34;, [1]]], &#34;op&#34;: {&#34;type&#34;: &#34;H&#34;}}, {&#34;args&#34;: [[&#34;q&#34;, [2]]], &#34;op&#34;: {&#34;type&#34;: &#34;H&#34;}}, {&#34;args&#34;: [[&#34;q&#34;, [3]]], &#34;op&#34;: {&#34;type&#34;: &#34;H&#34;}}, {&#34;args&#34;: [[&#34;q&#34;, [4]]], &#34;op&#34;: {&#34;type&#34;: &#34;H&#34;}}, {&#34;args&#34;: [[&#34;q&#34;, [0]], [&#34;q&#34;, [1]], [&#34;q&#34;, [2]], [&#34;q&#34;, [3]], [&#34;q&#34;, [4]]], &#34;op&#34;: {&#34;box&#34;: {&#34;circuit&#34;: {&#34;bits&#34;: [], &#34;commands&#34;: [{&#34;args&#34;: [[&#34;q&#34;, [0]], [&#34;q&#34;, [1]]], &#34;op&#34;: {&#34;box&#34;: {&#34;cx_config&#34;: &#34;Tree&#34;, &#34;id&#34;: &#34;a94b9d55-4c61-4178-b099-1192709eea3d&#34;, &#34;paulis&#34;: [&#34;Z&#34;, &#34;Z&#34;], &#34;phase&#34;: &#34;0.06&#34;, &#34;type&#34;: &#34;PauliExpBox&#34;}, &#34;type&#34;: &#34;PauliExpBox&#34;}}, {&#34;args&#34;: [[&#34;q&#34;, [2]], [&#34;q&#34;, [3]]], &#34;op&#34;: {&#34;box&#34;: {&#34;cx_config&#34;: &#34;Tree&#34;, &#34;id&#34;: &#34;0836bf32-b94a-4108-b022-fecf6eb640e7&#34;, &#34;paulis&#34;: [&#34;Z&#34;, &#34;Z&#34;], &#34;phase&#34;: &#34;0.06&#34;, &#34;type&#34;: &#34;PauliExpBox&#34;}, &#34;type&#34;: &#34;PauliExpBox&#34;}}, {&#34;args&#34;: [[&#34;q&#34;, [0]], [&#34;q&#34;, [1]]], &#34;op&#34;: {&#34;box&#34;: {&#34;cx_config&#34;: &#34;Tree&#34;, &#34;id&#34;: &#34;50207235-c7d2-4ab7-990e-9f4725249eba&#34;, &#34;paulis&#34;: [&#34;X&#34;, &#34;X&#34;], &#34;phase&#34;: &#34;0.2&#34;, &#34;type&#34;: &#34;PauliExpBox&#34;}, &#34;type&#34;: &#34;PauliExpBox&#34;}}, {&#34;args&#34;: [[&#34;q&#34;, [2]], [&#34;q&#34;, [3]]], &#34;op&#34;: {&#34;box&#34;: {&#34;cx_config&#34;: &#34;Tree&#34;, &#34;id&#34;: &#34;b1edbdc9-3722-48d7-9463-a85351a862dd&#34;, &#34;paulis&#34;: [&#34;X&#34;, &#34;X&#34;], &#34;phase&#34;: &#34;0.2&#34;, &#34;type&#34;: &#34;PauliExpBox&#34;}, &#34;type&#34;: &#34;PauliExpBox&#34;}}, {&#34;args&#34;: [[&#34;q&#34;, [0]], [&#34;q&#34;, [1]]], &#34;op&#34;: {&#34;box&#34;: {&#34;cx_config&#34;: &#34;Tree&#34;, &#34;id&#34;: &#34;d2a4b6cc-a3bf-418a-9139-e42f542db7c4&#34;, &#34;paulis&#34;: [&#34;Y&#34;, &#34;Y&#34;], &#34;phase&#34;: &#34;0.2&#34;, &#34;type&#34;: &#34;PauliExpBox&#34;}, &#34;type&#34;: &#34;PauliExpBox&#34;}}, {&#34;args&#34;: [[&#34;q&#34;, [2]], [&#34;q&#34;, [3]]], &#34;op&#34;: {&#34;box&#34;: {&#34;cx_config&#34;: &#34;Tree&#34;, &#34;id&#34;: &#34;15d6b4d9-4b5b-4438-9814-1b7db229c9e2&#34;, &#34;paulis&#34;: [&#34;Y&#34;, &#34;Y&#34;], &#34;phase&#34;: &#34;0.2&#34;, &#34;type&#34;: &#34;PauliExpBox&#34;}, &#34;type&#34;: &#34;PauliExpBox&#34;}}], &#34;created_qubits&#34;: [], &#34;discarded_qubits&#34;: [], &#34;implicit_permutation&#34;: [[[&#34;q&#34;, [0]], [&#34;q&#34;, [0]]], [[&#34;q&#34;, [1]], [&#34;q&#34;, [1]]], [[&#34;q&#34;, [2]], [&#34;q&#34;, [2]]], [[&#34;q&#34;, [3]], [&#34;q&#34;, [3]]], [[&#34;q&#34;, [4]], [&#34;q&#34;, [4]]]], &#34;phase&#34;: &#34;0.0&#34;, &#34;qubits&#34;: [[&#34;q&#34;, [0]], [&#34;q&#34;, [1]], [&#34;q&#34;, [2]], [&#34;q&#34;, [3]], [&#34;q&#34;, [4]]]}, &#34;id&#34;: &#34;afff35e6-16ce-4c6c-acb2-fb2447457a0c&#34;, &#34;type&#34;: &#34;CircBox&#34;}, &#34;type&#34;: &#34;CircBox&#34;}}, {&#34;args&#34;: [[&#34;q&#34;, [0]], [&#34;q&#34;, [1]], [&#34;q&#34;, [2]], [&#34;q&#34;, [3]], [&#34;q&#34;, [4]]], &#34;op&#34;: {&#34;box&#34;: {&#34;circuit&#34;: {&#34;bits&#34;: [], &#34;commands&#34;: [{&#34;args&#34;: [[&#34;q&#34;, [1]], [&#34;q&#34;, [2]]], &#34;op&#34;: {&#34;box&#34;: {&#34;cx_config&#34;: &#34;Tree&#34;, &#34;id&#34;: &#34;8bc03470-24ca-4465-9b05-3f5a23c9b1e3&#34;, &#34;paulis&#34;: [&#34;Z&#34;, &#34;Z&#34;], &#34;phase&#34;: &#34;0.06&#34;, &#34;type&#34;: &#34;PauliExpBox&#34;}, &#34;type&#34;: &#34;PauliExpBox&#34;}}, {&#34;args&#34;: [[&#34;q&#34;, [3]], [&#34;q&#34;, [4]]], &#34;op&#34;: {&#34;box&#34;: {&#34;cx_config&#34;: &#34;Tree&#34;, &#34;id&#34;: &#34;cd96eeac-b2bd-4d2f-98f2-15ec2006f84f&#34;, &#34;paulis&#34;: [&#34;Z&#34;, &#34;Z&#34;], &#34;phase&#34;: &#34;0.06&#34;, &#34;type&#34;: &#34;PauliExpBox&#34;}, &#34;type&#34;: &#34;PauliExpBox&#34;}}, {&#34;args&#34;: [[&#34;q&#34;, [1]], [&#34;q&#34;, [2]]], &#34;op&#34;: {&#34;box&#34;: {&#34;cx_config&#34;: &#34;Tree&#34;, &#34;id&#34;: &#34;151c2d8c-d887-4710-9b83-bff56d883f95&#34;, &#34;paulis&#34;: [&#34;X&#34;, &#34;X&#34;], &#34;phase&#34;: &#34;0.2&#34;, &#34;type&#34;: &#34;PauliExpBox&#34;}, &#34;type&#34;: &#34;PauliExpBox&#34;}}, {&#34;args&#34;: [[&#34;q&#34;, [3]], [&#34;q&#34;, [4]]], &#34;op&#34;: {&#34;box&#34;: {&#34;cx_config&#34;: &#34;Tree&#34;, &#34;id&#34;: &#34;e6b6da9a-ae9e-40fc-ab6e-da4cf787f409&#34;, &#34;paulis&#34;: [&#34;X&#34;, &#34;X&#34;], &#34;phase&#34;: &#34;0.2&#34;, &#34;type&#34;: &#34;PauliExpBox&#34;}, &#34;type&#34;: &#34;PauliExpBox&#34;}}, {&#34;args&#34;: [[&#34;q&#34;, [1]], [&#34;q&#34;, [2]]], &#34;op&#34;: {&#34;box&#34;: {&#34;cx_config&#34;: &#34;Tree&#34;, &#34;id&#34;: &#34;f6103195-8094-4251-ae01-795e5f9a6d39&#34;, &#34;paulis&#34;: [&#34;Y&#34;, &#34;Y&#34;], &#34;phase&#34;: &#34;0.2&#34;, &#34;type&#34;: &#34;PauliExpBox&#34;}, &#34;type&#34;: &#34;PauliExpBox&#34;}}, {&#34;args&#34;: [[&#34;q&#34;, [3]], [&#34;q&#34;, [4]]], &#34;op&#34;: {&#34;box&#34;: {&#34;cx_config&#34;: &#34;Tree&#34;, &#34;id&#34;: &#34;2745f32d-e9f3-4407-a749-d6c23871935c&#34;, &#34;paulis&#34;: [&#34;Y&#34;, &#34;Y&#34;], &#34;phase&#34;: &#34;0.2&#34;, &#34;type&#34;: &#34;PauliExpBox&#34;}, &#34;type&#34;: &#34;PauliExpBox&#34;}}], &#34;created_qubits&#34;: [], &#34;discarded_qubits&#34;: [], &#34;implicit_permutation&#34;: [[[&#34;q&#34;, [0]], [&#34;q&#34;, [0]]], [[&#34;q&#34;, [1]], [&#34;q&#34;, [1]]], [[&#34;q&#34;, [2]], [&#34;q&#34;, [2]]], [[&#34;q&#34;, [3]], [&#34;q&#34;, [3]]], [[&#34;q&#34;, [4]], [&#34;q&#34;, [4]]]], &#34;phase&#34;: &#34;0.0&#34;, &#34;qubits&#34;: [[&#34;q&#34;, [0]], [&#34;q&#34;, [1]], [&#34;q&#34;, [2]], [&#34;q&#34;, [3]], [&#34;q&#34;, [4]]]}, &#34;id&#34;: &#34;5dece7b3-e022-4cf4-8016-d7ed2f7c422d&#34;, &#34;type&#34;: &#34;CircBox&#34;}, &#34;type&#34;: &#34;CircBox&#34;}}], &#34;created_qubits&#34;: [], &#34;discarded_qubits&#34;: [], &#34;implicit_permutation&#34;: [[[&#34;q&#34;, [0]], [&#34;q&#34;, [0]]], [[&#34;q&#34;, [1]], [&#34;q&#34;, [1]]], [[&#34;q&#34;, [2]], [&#34;q&#34;, [2]]], [[&#34;q&#34;, [3]], [&#34;q&#34;, [3]]], [[&#34;q&#34;, [4]], [&#34;q&#34;, [4]]]], &#34;name&#34;: &#34; XXZ Hamiltonian Time evolution&#34;, &#34;phase&#34;: &#34;0.0&#34;, &#34;qubits&#34;: [[&#34;q&#34;, [0]], [&#34;q&#34;, [1]], [&#34;q&#34;, [2]], [&#34;q&#34;, [3]], [&#34;q&#34;, [4]]]}&lt;/div&gt;\n",
              "        &lt;/div&gt;\n",
              "        &lt;circuit-display-container\n",
              "                :circuit-element-str=&#34;&#39;#circuit-json-to-display&#39;&#34;\n",
              "                :init-render-options=&#34;initRenderOptions&#34;\n",
              "                view-format=&#34;None&#34;\n",
              "        &gt;&lt;/circuit-display-container&gt;\n",
              "    &lt;/div&gt;\n",
              "    &lt;script type=&#34;application/javascript&#34;&gt;\n",
              "      const circuitRendererUid = &#34;6446dd3c-42db-410d-b4cc-5f084a3c4daf&#34;;\n",
              "      const displayOptions = JSON.parse(&#39;{}&#39;);\n",
              "\n",
              "      // Script to initialise the circuit renderer app\n",
              "\n",
              "const { createApp } = Vue;\n",
              "const circuitDisplayContainer = window[&#34;pytket-circuit-renderer&#34;].default;\n",
              "// Init variables to be shared between circuit display instances\n",
              "if (typeof window.pytketCircuitDisplays === &#34;undefined&#34;) {\n",
              "    window.pytketCircuitDisplays = {};\n",
              "}\n",
              "// Create the root Vue component\n",
              "const app = createApp({\n",
              "    delimiters: [&#39;[[#&#39;, &#39;#]]&#39;],\n",
              "    components: { circuitDisplayContainer },\n",
              "    data () {\n",
              "      return {\n",
              "        initRenderOptions: displayOptions,\n",
              "      }\n",
              "    }\n",
              "})\n",
              "app.config.unwrapInjectedRef = true;\n",
              "app.mount(&#34;#circuit-display-vue-container-&#34;+circuitRendererUid);\n",
              "window.pytketCircuitDisplays[circuitRendererUid] = app;\n",
              "    &lt;/script&gt;\n",
              "\n",
              "\n",
              "\n",
              "&lt;/body&gt;\n",
              "&lt;/html&gt;\n",
              "\"\n",
              "            width=\"100%\" height=\"100%\"\n",
              "            style=\"border: none; outline: none; overflow: auto\"></iframe>\n",
              "</div>\n",
              "\n"
            ]
          },
          "metadata": {}
        }
      ]
    },
    {
      "cell_type": "code",
      "source": [
        "DecomposeBoxes().apply(f_ham)\n",
        "draw(f_ham)"
      ],
      "metadata": {
        "id": "Ug9D8u6Pd8EM",
        "outputId": "0b9b4954-66ed-4fcc-f564-4239ca437264",
        "colab": {
          "base_uri": "https://localhost:8080/",
          "height": 417
        }
      },
      "execution_count": 10,
      "outputs": [
        {
          "output_type": "display_data",
          "data": {
            "text/plain": [
              "<IPython.core.display.HTML object>"
            ],
            "text/html": [
              "\n",
              "\n",
              "\n",
              "\n",
              "\n",
              "\n",
              "<div style=\"resize: vertical; overflow: auto; height: 400px; display: block\">\n",
              "    <iframe srcdoc=\"\n",
              "&lt;!DOCTYPE html&gt;\n",
              "&lt;html lang=&#34;en&#34;&gt;\n",
              "&lt;head&gt;\n",
              "    &lt;meta charset=&#34;UTF-8&#34;&gt;\n",
              "    &lt;!-- Download Vue 3--&gt;\n",
              "&lt;script type=&#34;application/javascript&#34; src=&#34;https://cdn.jsdelivr.net/npm/vue@3&#34;&gt;&lt;/script&gt;\n",
              "&lt;!-- Download Circuit Renderer with styles --&gt;\n",
              "&lt;script type=&#34;application/javascript&#34; src=&#34;https://unpkg.com/pytket-circuit-renderer@0.10/dist/pytket-circuit-renderer.umd.js&#34;&gt;&lt;/script&gt;\n",
              "&lt;link rel=&#34;stylesheet&#34; href=&#34;https://unpkg.com/pytket-circuit-renderer@0.10/dist/pytket-circuit-renderer.css&#34;&gt;\n",
              "&lt;/head&gt;\n",
              "&lt;body&gt;\n",
              "\n",
              "\n",
              "    &lt;div id=&#34;circuit-display-vue-container-8bf22100-f903-4bbc-8a46-63b3266f0a3e&#34; class=&#34;pytket-circuit-display-container&#34;&gt;\n",
              "        &lt;div style=&#34;display: none&#34;&gt;\n",
              "            &lt;div id=&#34;circuit-json-to-display&#34;&gt;{&#34;bits&#34;: [], &#34;commands&#34;: [{&#34;args&#34;: [[&#34;q&#34;, [0]]], &#34;op&#34;: {&#34;type&#34;: &#34;H&#34;}}, {&#34;args&#34;: [[&#34;q&#34;, [1]]], &#34;op&#34;: {&#34;type&#34;: &#34;H&#34;}}, {&#34;args&#34;: [[&#34;q&#34;, [2]]], &#34;op&#34;: {&#34;type&#34;: &#34;H&#34;}}, {&#34;args&#34;: [[&#34;q&#34;, [3]]], &#34;op&#34;: {&#34;type&#34;: &#34;H&#34;}}, {&#34;args&#34;: [[&#34;q&#34;, [4]]], &#34;op&#34;: {&#34;type&#34;: &#34;H&#34;}}, {&#34;args&#34;: [[&#34;q&#34;, [1]], [&#34;q&#34;, [0]]], &#34;op&#34;: {&#34;type&#34;: &#34;CX&#34;}}, {&#34;args&#34;: [[&#34;q&#34;, [3]], [&#34;q&#34;, [2]]], &#34;op&#34;: {&#34;type&#34;: &#34;CX&#34;}}, {&#34;args&#34;: [[&#34;q&#34;, [0]]], &#34;op&#34;: {&#34;params&#34;: [&#34;0.06&#34;], &#34;type&#34;: &#34;Rz&#34;}}, {&#34;args&#34;: [[&#34;q&#34;, [2]]], &#34;op&#34;: {&#34;params&#34;: [&#34;0.06&#34;], &#34;type&#34;: &#34;Rz&#34;}}, {&#34;args&#34;: [[&#34;q&#34;, [1]], [&#34;q&#34;, [0]]], &#34;op&#34;: {&#34;type&#34;: &#34;CX&#34;}}, {&#34;args&#34;: [[&#34;q&#34;, [3]], [&#34;q&#34;, [2]]], &#34;op&#34;: {&#34;type&#34;: &#34;CX&#34;}}, {&#34;args&#34;: [[&#34;q&#34;, [0]]], &#34;op&#34;: {&#34;type&#34;: &#34;H&#34;}}, {&#34;args&#34;: [[&#34;q&#34;, [1]]], &#34;op&#34;: {&#34;type&#34;: &#34;H&#34;}}, {&#34;args&#34;: [[&#34;q&#34;, [2]]], &#34;op&#34;: {&#34;type&#34;: &#34;H&#34;}}, {&#34;args&#34;: [[&#34;q&#34;, [3]]], &#34;op&#34;: {&#34;type&#34;: &#34;H&#34;}}, {&#34;args&#34;: [[&#34;q&#34;, [1]], [&#34;q&#34;, [0]]], &#34;op&#34;: {&#34;type&#34;: &#34;CX&#34;}}, {&#34;args&#34;: [[&#34;q&#34;, [3]], [&#34;q&#34;, [2]]], &#34;op&#34;: {&#34;type&#34;: &#34;CX&#34;}}, {&#34;args&#34;: [[&#34;q&#34;, [0]]], &#34;op&#34;: {&#34;params&#34;: [&#34;0.2&#34;], &#34;type&#34;: &#34;Rz&#34;}}, {&#34;args&#34;: [[&#34;q&#34;, [2]]], &#34;op&#34;: {&#34;params&#34;: [&#34;0.2&#34;], &#34;type&#34;: &#34;Rz&#34;}}, {&#34;args&#34;: [[&#34;q&#34;, [1]], [&#34;q&#34;, [0]]], &#34;op&#34;: {&#34;type&#34;: &#34;CX&#34;}}, {&#34;args&#34;: [[&#34;q&#34;, [3]], [&#34;q&#34;, [2]]], &#34;op&#34;: {&#34;type&#34;: &#34;CX&#34;}}, {&#34;args&#34;: [[&#34;q&#34;, [0]]], &#34;op&#34;: {&#34;type&#34;: &#34;H&#34;}}, {&#34;args&#34;: [[&#34;q&#34;, [1]]], &#34;op&#34;: {&#34;type&#34;: &#34;H&#34;}}, {&#34;args&#34;: [[&#34;q&#34;, [2]]], &#34;op&#34;: {&#34;type&#34;: &#34;H&#34;}}, {&#34;args&#34;: [[&#34;q&#34;, [3]]], &#34;op&#34;: {&#34;type&#34;: &#34;H&#34;}}, {&#34;args&#34;: [[&#34;q&#34;, [0]]], &#34;op&#34;: {&#34;type&#34;: &#34;V&#34;}}, {&#34;args&#34;: [[&#34;q&#34;, [1]]], &#34;op&#34;: {&#34;type&#34;: &#34;V&#34;}}, {&#34;args&#34;: [[&#34;q&#34;, [2]]], &#34;op&#34;: {&#34;type&#34;: &#34;V&#34;}}, {&#34;args&#34;: [[&#34;q&#34;, [3]]], &#34;op&#34;: {&#34;type&#34;: &#34;V&#34;}}, {&#34;args&#34;: [[&#34;q&#34;, [1]], [&#34;q&#34;, [0]]], &#34;op&#34;: {&#34;type&#34;: &#34;CX&#34;}}, {&#34;args&#34;: [[&#34;q&#34;, [3]], [&#34;q&#34;, [2]]], &#34;op&#34;: {&#34;type&#34;: &#34;CX&#34;}}, {&#34;args&#34;: [[&#34;q&#34;, [0]]], &#34;op&#34;: {&#34;params&#34;: [&#34;0.2&#34;], &#34;type&#34;: &#34;Rz&#34;}}, {&#34;args&#34;: [[&#34;q&#34;, [2]]], &#34;op&#34;: {&#34;params&#34;: [&#34;0.2&#34;], &#34;type&#34;: &#34;Rz&#34;}}, {&#34;args&#34;: [[&#34;q&#34;, [1]], [&#34;q&#34;, [0]]], &#34;op&#34;: {&#34;type&#34;: &#34;CX&#34;}}, {&#34;args&#34;: [[&#34;q&#34;, [3]], [&#34;q&#34;, [2]]], &#34;op&#34;: {&#34;type&#34;: &#34;CX&#34;}}, {&#34;args&#34;: [[&#34;q&#34;, [0]]], &#34;op&#34;: {&#34;type&#34;: &#34;Vdg&#34;}}, {&#34;args&#34;: [[&#34;q&#34;, [1]]], &#34;op&#34;: {&#34;type&#34;: &#34;Vdg&#34;}}, {&#34;args&#34;: [[&#34;q&#34;, [2]]], &#34;op&#34;: {&#34;type&#34;: &#34;Vdg&#34;}}, {&#34;args&#34;: [[&#34;q&#34;, [3]]], &#34;op&#34;: {&#34;type&#34;: &#34;Vdg&#34;}}, {&#34;args&#34;: [[&#34;q&#34;, [2]], [&#34;q&#34;, [1]]], &#34;op&#34;: {&#34;type&#34;: &#34;CX&#34;}}, {&#34;args&#34;: [[&#34;q&#34;, [4]], [&#34;q&#34;, [3]]], &#34;op&#34;: {&#34;type&#34;: &#34;CX&#34;}}, {&#34;args&#34;: [[&#34;q&#34;, [1]]], &#34;op&#34;: {&#34;params&#34;: [&#34;0.06&#34;], &#34;type&#34;: &#34;Rz&#34;}}, {&#34;args&#34;: [[&#34;q&#34;, [3]]], &#34;op&#34;: {&#34;params&#34;: [&#34;0.06&#34;], &#34;type&#34;: &#34;Rz&#34;}}, {&#34;args&#34;: [[&#34;q&#34;, [2]], [&#34;q&#34;, [1]]], &#34;op&#34;: {&#34;type&#34;: &#34;CX&#34;}}, {&#34;args&#34;: [[&#34;q&#34;, [4]], [&#34;q&#34;, [3]]], &#34;op&#34;: {&#34;type&#34;: &#34;CX&#34;}}, {&#34;args&#34;: [[&#34;q&#34;, [1]]], &#34;op&#34;: {&#34;type&#34;: &#34;H&#34;}}, {&#34;args&#34;: [[&#34;q&#34;, [2]]], &#34;op&#34;: {&#34;type&#34;: &#34;H&#34;}}, {&#34;args&#34;: [[&#34;q&#34;, [3]]], &#34;op&#34;: {&#34;type&#34;: &#34;H&#34;}}, {&#34;args&#34;: [[&#34;q&#34;, [4]]], &#34;op&#34;: {&#34;type&#34;: &#34;H&#34;}}, {&#34;args&#34;: [[&#34;q&#34;, [2]], [&#34;q&#34;, [1]]], &#34;op&#34;: {&#34;type&#34;: &#34;CX&#34;}}, {&#34;args&#34;: [[&#34;q&#34;, [4]], [&#34;q&#34;, [3]]], &#34;op&#34;: {&#34;type&#34;: &#34;CX&#34;}}, {&#34;args&#34;: [[&#34;q&#34;, [1]]], &#34;op&#34;: {&#34;params&#34;: [&#34;0.2&#34;], &#34;type&#34;: &#34;Rz&#34;}}, {&#34;args&#34;: [[&#34;q&#34;, [3]]], &#34;op&#34;: {&#34;params&#34;: [&#34;0.2&#34;], &#34;type&#34;: &#34;Rz&#34;}}, {&#34;args&#34;: [[&#34;q&#34;, [2]], [&#34;q&#34;, [1]]], &#34;op&#34;: {&#34;type&#34;: &#34;CX&#34;}}, {&#34;args&#34;: [[&#34;q&#34;, [4]], [&#34;q&#34;, [3]]], &#34;op&#34;: {&#34;type&#34;: &#34;CX&#34;}}, {&#34;args&#34;: [[&#34;q&#34;, [1]]], &#34;op&#34;: {&#34;type&#34;: &#34;H&#34;}}, {&#34;args&#34;: [[&#34;q&#34;, [2]]], &#34;op&#34;: {&#34;type&#34;: &#34;H&#34;}}, {&#34;args&#34;: [[&#34;q&#34;, [3]]], &#34;op&#34;: {&#34;type&#34;: &#34;H&#34;}}, {&#34;args&#34;: [[&#34;q&#34;, [4]]], &#34;op&#34;: {&#34;type&#34;: &#34;H&#34;}}, {&#34;args&#34;: [[&#34;q&#34;, [1]]], &#34;op&#34;: {&#34;type&#34;: &#34;V&#34;}}, {&#34;args&#34;: [[&#34;q&#34;, [2]]], &#34;op&#34;: {&#34;type&#34;: &#34;V&#34;}}, {&#34;args&#34;: [[&#34;q&#34;, [3]]], &#34;op&#34;: {&#34;type&#34;: &#34;V&#34;}}, {&#34;args&#34;: [[&#34;q&#34;, [4]]], &#34;op&#34;: {&#34;type&#34;: &#34;V&#34;}}, {&#34;args&#34;: [[&#34;q&#34;, [2]], [&#34;q&#34;, [1]]], &#34;op&#34;: {&#34;type&#34;: &#34;CX&#34;}}, {&#34;args&#34;: [[&#34;q&#34;, [4]], [&#34;q&#34;, [3]]], &#34;op&#34;: {&#34;type&#34;: &#34;CX&#34;}}, {&#34;args&#34;: [[&#34;q&#34;, [1]]], &#34;op&#34;: {&#34;params&#34;: [&#34;0.2&#34;], &#34;type&#34;: &#34;Rz&#34;}}, {&#34;args&#34;: [[&#34;q&#34;, [3]]], &#34;op&#34;: {&#34;params&#34;: [&#34;0.2&#34;], &#34;type&#34;: &#34;Rz&#34;}}, {&#34;args&#34;: [[&#34;q&#34;, [2]], [&#34;q&#34;, [1]]], &#34;op&#34;: {&#34;type&#34;: &#34;CX&#34;}}, {&#34;args&#34;: [[&#34;q&#34;, [4]], [&#34;q&#34;, [3]]], &#34;op&#34;: {&#34;type&#34;: &#34;CX&#34;}}, {&#34;args&#34;: [[&#34;q&#34;, [1]]], &#34;op&#34;: {&#34;type&#34;: &#34;Vdg&#34;}}, {&#34;args&#34;: [[&#34;q&#34;, [2]]], &#34;op&#34;: {&#34;type&#34;: &#34;Vdg&#34;}}, {&#34;args&#34;: [[&#34;q&#34;, [3]]], &#34;op&#34;: {&#34;type&#34;: &#34;Vdg&#34;}}, {&#34;args&#34;: [[&#34;q&#34;, [4]]], &#34;op&#34;: {&#34;type&#34;: &#34;Vdg&#34;}}], &#34;created_qubits&#34;: [], &#34;discarded_qubits&#34;: [], &#34;implicit_permutation&#34;: [[[&#34;q&#34;, [0]], [&#34;q&#34;, [0]]], [[&#34;q&#34;, [1]], [&#34;q&#34;, [1]]], [[&#34;q&#34;, [2]], [&#34;q&#34;, [2]]], [[&#34;q&#34;, [3]], [&#34;q&#34;, [3]]], [[&#34;q&#34;, [4]], [&#34;q&#34;, [4]]]], &#34;name&#34;: &#34; XXZ Hamiltonian Time evolution&#34;, &#34;phase&#34;: &#34;0.0&#34;, &#34;qubits&#34;: [[&#34;q&#34;, [0]], [&#34;q&#34;, [1]], [&#34;q&#34;, [2]], [&#34;q&#34;, [3]], [&#34;q&#34;, [4]]]}&lt;/div&gt;\n",
              "        &lt;/div&gt;\n",
              "        &lt;circuit-display-container\n",
              "                :circuit-element-str=&#34;&#39;#circuit-json-to-display&#39;&#34;\n",
              "                :init-render-options=&#34;initRenderOptions&#34;\n",
              "                view-format=&#34;None&#34;\n",
              "        &gt;&lt;/circuit-display-container&gt;\n",
              "    &lt;/div&gt;\n",
              "    &lt;script type=&#34;application/javascript&#34;&gt;\n",
              "      const circuitRendererUid = &#34;8bf22100-f903-4bbc-8a46-63b3266f0a3e&#34;;\n",
              "      const displayOptions = JSON.parse(&#39;{}&#39;);\n",
              "\n",
              "      // Script to initialise the circuit renderer app\n",
              "\n",
              "const { createApp } = Vue;\n",
              "const circuitDisplayContainer = window[&#34;pytket-circuit-renderer&#34;].default;\n",
              "// Init variables to be shared between circuit display instances\n",
              "if (typeof window.pytketCircuitDisplays === &#34;undefined&#34;) {\n",
              "    window.pytketCircuitDisplays = {};\n",
              "}\n",
              "// Create the root Vue component\n",
              "const app = createApp({\n",
              "    delimiters: [&#39;[[#&#39;, &#39;#]]&#39;],\n",
              "    components: { circuitDisplayContainer },\n",
              "    data () {\n",
              "      return {\n",
              "        initRenderOptions: displayOptions,\n",
              "      }\n",
              "    }\n",
              "})\n",
              "app.config.unwrapInjectedRef = true;\n",
              "app.mount(&#34;#circuit-display-vue-container-&#34;+circuitRendererUid);\n",
              "window.pytketCircuitDisplays[circuitRendererUid] = app;\n",
              "    &lt;/script&gt;\n",
              "\n",
              "\n",
              "\n",
              "&lt;/body&gt;\n",
              "&lt;/html&gt;\n",
              "\"\n",
              "            width=\"100%\" height=\"100%\"\n",
              "            style=\"border: none; outline: none; overflow: auto\"></iframe>\n",
              "</div>\n",
              "\n"
            ]
          },
          "metadata": {}
        }
      ]
    },
    {
      "cell_type": "code",
      "source": [
        "from pytket.extensions.qiskit import AerStateBackend\n",
        "\n",
        "sv_backend = AerStateBackend()\n",
        "comp_circ = sv_backend.get_compiled_circuit(f_ham)\n",
        "result = sv_backend.run_circuit(comp_circ)\n",
        "statevector = result.get_state()\n",
        "\n",
        "print(\"Statevector dimensions: \", statevector.shape)\n",
        "print(\"Statevector\", statevector)"
      ],
      "metadata": {
        "id": "qflCfrGLfZNg",
        "outputId": "177cdf64-a394-4cc3-a722-570e3754321a",
        "colab": {
          "base_uri": "https://localhost:8080/"
        }
      },
      "execution_count": 11,
      "outputs": [
        {
          "output_type": "stream",
          "name": "stdout",
          "text": [
            "Statevector dimensions:  (32,)\n",
            "Statevector [ 0.16436281-0.06507584j  0.07940731-0.11086072j  0.09623167-0.18612857j\n",
            "  0.12101198-0.12886466j  0.054627  -0.16812463j  0.0299676 -0.16232864j\n",
            " -0.04012344-0.10364079j  0.04942799-0.07685586j  0.054627  -0.16812463j\n",
            " -0.0569478 -0.17890864j -0.01730303-0.22326957j  0.04942799-0.22739157j\n",
            "  0.054627  -0.16812463j  0.00782332-0.20938762j  0.02464768-0.13411977j\n",
            "  0.12101198-0.12886466j  0.12101198-0.12886466j  0.02464768-0.13411977j\n",
            "  0.00782332-0.20938762j  0.054627  -0.16812463j  0.04942799-0.22739157j\n",
            " -0.01730303-0.22326957j -0.0569478 -0.17890864j  0.054627  -0.16812463j\n",
            "  0.04942799-0.07685586j -0.04012344-0.10364079j  0.0299676 -0.16232864j\n",
            "  0.054627  -0.16812463j  0.12101198-0.12886466j  0.09623167-0.18612857j\n",
            "  0.07940731-0.11086072j  0.16436281-0.06507584j]\n"
          ]
        }
      ]
    },
    {
      "cell_type": "code",
      "source": [],
      "metadata": {
        "id": "Q5EQoV7IkiVX"
      },
      "execution_count": 11,
      "outputs": []
    },
    {
      "cell_type": "code",
      "source": [],
      "metadata": {
        "id": "VsjFTEvLkiNB"
      },
      "execution_count": 11,
      "outputs": []
    },
    {
      "cell_type": "code",
      "source": [],
      "metadata": {
        "id": "E8b_mNvYkiEC"
      },
      "execution_count": 11,
      "outputs": []
    },
    {
      "cell_type": "code",
      "source": [],
      "metadata": {
        "id": "q9plPzvQkh82"
      },
      "execution_count": 11,
      "outputs": []
    },
    {
      "cell_type": "code",
      "source": [],
      "metadata": {
        "id": "TMQYHBo9khxt"
      },
      "execution_count": 11,
      "outputs": []
    },
    {
      "cell_type": "code",
      "execution_count": 15,
      "metadata": {
        "id": "Bktrxhpta5Xi",
        "outputId": "4b098b1a-8376-496c-d725-3ebbd2f1da68",
        "colab": {
          "base_uri": "https://localhost:8080/"
        }
      },
      "outputs": [
        {
          "output_type": "stream",
          "name": "stdout",
          "text": [
            "[['Z', 'Z'], ['X', 'X'], ['Y', 'Y'], ['Z', 'Z'], ['X', 'X'], ['Y', 'Y'], ['Z', 'Z'], ['X', 'X'], ['Y', 'Y']] [[0, 1], [0, 1], [0, 1], [1, 2], [1, 2], [1, 2], [2, 3], [2, 3], [2, 3]] [0.500000000000000, 1.00000000000000, 1.00000000000000, 0.500000000000000, 1.00000000000000, 1.00000000000000, 0.500000000000000, 1.00000000000000, 1.00000000000000] [[0, 1], [0, 1], [0, 1], [1, 2], [1, 2], [1, 2], [2, 3], [2, 3], [2, 3]]\n"
          ]
        }
      ],
      "source": [
        "import numpy as np\n",
        "n_qubits = 4\n",
        "Delta_ZZ = 0.5\n",
        "coefficients = []\n",
        "indexs = []\n",
        "pauli_strings = []\n",
        "cx_indexs = []\n",
        "xxz_ham = get_xxz_chain_hamiltonian(n_qubits=n_qubits, Delta_ZZ=Delta_ZZ)\n",
        "\n",
        "\n",
        "for term,coef in zip(xxz_ham._dict,xxz_ham._dict.values()):\n",
        "  coefficients.append(coef)\n",
        "  s_term = term.to_list()\n",
        "  paulistr = []\n",
        "  ind = []\n",
        "  cx = []\n",
        "  for val in s_term:\n",
        "    index = val[0][1][0]\n",
        "    paulis = val[1]\n",
        "    paulistr.append(paulis)\n",
        "    ind.append(index)\n",
        "  pauli_strings.append(paulistr)\n",
        "  indexs.append(ind)\n",
        "  cx_ind = set(ind)\n",
        "  cx_indexs.append(list(cx_ind))\n",
        "print(pauli_strings,indexs,coefficients,cx_indexs)\n"
      ]
    },
    {
      "cell_type": "code",
      "source": [
        "def ham_to_circ(coef,ps,inds,cx_inds,circs):\n",
        "  for i in range(len(ps)):\n",
        "    if ps[i] == 'X':\n",
        "      circs.H(inds[i])\n",
        "    elif ps[i] == 'Y':\n",
        "      circs.Rx(inds[i],-np.pi/2)\n",
        "\n",
        "  for i in range(len(cx_inds)-2):\n",
        "    circs.CX(inds[i],inds[i+1])\n",
        "\n",
        "  circs.Rz(cx_inds[-1],coef * 2)\n",
        "\n",
        "  for i in range(len(cx_inds)-1, 0, -1):\n",
        "    circs.CX(inds[i-1],inds[i])\n",
        "\n",
        "  for i in range(len(ps)):\n",
        "    if ps[i] == 'X':\n",
        "      circs.H(inds[i])\n",
        "    elif ps[i] == 'Y':\n",
        "      circs.Rx(inds[i],np.pi/2)\n",
        "\n"
      ],
      "metadata": {
        "id": "xvRYry9DMaij"
      },
      "execution_count": 23,
      "outputs": []
    },
    {
      "cell_type": "code",
      "source": [
        "circ = Circuit(n_qubits=n_qubits, name=\"Hamiltonian Time evolution\")\n",
        "for i in range(len(coefficients)):\n",
        "  print(coefficients[i],pauli_strings[i],indexs[i],cx_indexs[i])\n",
        "  ham_to_circ(coefficients[i],pauli_strings[i],indexs[i],cx_indexs[i],circ)\n",
        "draw(circ)"
      ],
      "metadata": {
        "id": "NmOAQ-wp9kmx",
        "outputId": "94765d18-aad5-4bb2-947d-1ce4362fee3a",
        "colab": {
          "base_uri": "https://localhost:8080/",
          "height": 454
        }
      },
      "execution_count": 24,
      "outputs": [
        {
          "output_type": "stream",
          "name": "stdout",
          "text": [
            "0.500000000000000 ['Z', 'Z'] [0, 1] [0, 1]\n",
            "1.00000000000000 ['X', 'X'] [0, 1] [0, 1]\n",
            "1.00000000000000 ['Y', 'Y'] [0, 1] [0, 1]\n"
          ]
        },
        {
          "output_type": "error",
          "ename": "TypeError",
          "evalue": "Rx(): incompatible function arguments. The following argument types are supported:\n    1. (self: pytket._tket.circuit.Circuit, angle: typing.Union[sympy.Expr, float], qubit: int, **kwargs) -> pytket._tket.circuit.Circuit\n    2. (self: pytket._tket.circuit.Circuit, angle: typing.Union[sympy.Expr, float], qubit: pytket._tket.unit_id.Qubit, **kwargs) -> pytket._tket.circuit.Circuit\n\nInvoked with: [Rz(1) q[1]; Rz(1) q[2]; CX q[0], q[1]; H q[0]; H q[1]; CX q[0], q[1]; H q[0]; H q[1]; ], 0, -1.5707963267948966",
          "traceback": [
            "\u001b[0;31m---------------------------------------------------------------------------\u001b[0m",
            "\u001b[0;31mTypeError\u001b[0m                                 Traceback (most recent call last)",
            "\u001b[0;32m<ipython-input-24-347086e7ef2a>\u001b[0m in \u001b[0;36m<cell line: 0>\u001b[0;34m()\u001b[0m\n\u001b[1;32m      2\u001b[0m \u001b[0;32mfor\u001b[0m \u001b[0mi\u001b[0m \u001b[0;32min\u001b[0m \u001b[0mrange\u001b[0m\u001b[0;34m(\u001b[0m\u001b[0mlen\u001b[0m\u001b[0;34m(\u001b[0m\u001b[0mcoefficients\u001b[0m\u001b[0;34m)\u001b[0m\u001b[0;34m)\u001b[0m\u001b[0;34m:\u001b[0m\u001b[0;34m\u001b[0m\u001b[0;34m\u001b[0m\u001b[0m\n\u001b[1;32m      3\u001b[0m   \u001b[0mprint\u001b[0m\u001b[0;34m(\u001b[0m\u001b[0mcoefficients\u001b[0m\u001b[0;34m[\u001b[0m\u001b[0mi\u001b[0m\u001b[0;34m]\u001b[0m\u001b[0;34m,\u001b[0m\u001b[0mpauli_strings\u001b[0m\u001b[0;34m[\u001b[0m\u001b[0mi\u001b[0m\u001b[0;34m]\u001b[0m\u001b[0;34m,\u001b[0m\u001b[0mindexs\u001b[0m\u001b[0;34m[\u001b[0m\u001b[0mi\u001b[0m\u001b[0;34m]\u001b[0m\u001b[0;34m,\u001b[0m\u001b[0mcx_indexs\u001b[0m\u001b[0;34m[\u001b[0m\u001b[0mi\u001b[0m\u001b[0;34m]\u001b[0m\u001b[0;34m)\u001b[0m\u001b[0;34m\u001b[0m\u001b[0;34m\u001b[0m\u001b[0m\n\u001b[0;32m----> 4\u001b[0;31m   \u001b[0mham_to_circ\u001b[0m\u001b[0;34m(\u001b[0m\u001b[0mcoefficients\u001b[0m\u001b[0;34m[\u001b[0m\u001b[0mi\u001b[0m\u001b[0;34m]\u001b[0m\u001b[0;34m,\u001b[0m\u001b[0mpauli_strings\u001b[0m\u001b[0;34m[\u001b[0m\u001b[0mi\u001b[0m\u001b[0;34m]\u001b[0m\u001b[0;34m,\u001b[0m\u001b[0mindexs\u001b[0m\u001b[0;34m[\u001b[0m\u001b[0mi\u001b[0m\u001b[0;34m]\u001b[0m\u001b[0;34m,\u001b[0m\u001b[0mcx_indexs\u001b[0m\u001b[0;34m[\u001b[0m\u001b[0mi\u001b[0m\u001b[0;34m]\u001b[0m\u001b[0;34m,\u001b[0m\u001b[0mcirc\u001b[0m\u001b[0;34m)\u001b[0m\u001b[0;34m\u001b[0m\u001b[0;34m\u001b[0m\u001b[0m\n\u001b[0m\u001b[1;32m      5\u001b[0m \u001b[0mdraw\u001b[0m\u001b[0;34m(\u001b[0m\u001b[0mcirc\u001b[0m\u001b[0;34m)\u001b[0m\u001b[0;34m\u001b[0m\u001b[0;34m\u001b[0m\u001b[0m\n",
            "\u001b[0;32m<ipython-input-23-6bd1fb3f2260>\u001b[0m in \u001b[0;36mham_to_circ\u001b[0;34m(coef, ps, inds, cx_inds, circs)\u001b[0m\n\u001b[1;32m      4\u001b[0m       \u001b[0mcircs\u001b[0m\u001b[0;34m.\u001b[0m\u001b[0mH\u001b[0m\u001b[0;34m(\u001b[0m\u001b[0minds\u001b[0m\u001b[0;34m[\u001b[0m\u001b[0mi\u001b[0m\u001b[0;34m]\u001b[0m\u001b[0;34m)\u001b[0m\u001b[0;34m\u001b[0m\u001b[0;34m\u001b[0m\u001b[0m\n\u001b[1;32m      5\u001b[0m     \u001b[0;32melif\u001b[0m \u001b[0mps\u001b[0m\u001b[0;34m[\u001b[0m\u001b[0mi\u001b[0m\u001b[0;34m]\u001b[0m \u001b[0;34m==\u001b[0m \u001b[0;34m'Y'\u001b[0m\u001b[0;34m:\u001b[0m\u001b[0;34m\u001b[0m\u001b[0;34m\u001b[0m\u001b[0m\n\u001b[0;32m----> 6\u001b[0;31m       \u001b[0mcircs\u001b[0m\u001b[0;34m.\u001b[0m\u001b[0mRx\u001b[0m\u001b[0;34m(\u001b[0m\u001b[0minds\u001b[0m\u001b[0;34m[\u001b[0m\u001b[0mi\u001b[0m\u001b[0;34m]\u001b[0m\u001b[0;34m,\u001b[0m\u001b[0;34m-\u001b[0m\u001b[0mnp\u001b[0m\u001b[0;34m.\u001b[0m\u001b[0mpi\u001b[0m\u001b[0;34m/\u001b[0m\u001b[0;36m2\u001b[0m\u001b[0;34m)\u001b[0m\u001b[0;34m\u001b[0m\u001b[0;34m\u001b[0m\u001b[0m\n\u001b[0m\u001b[1;32m      7\u001b[0m \u001b[0;34m\u001b[0m\u001b[0m\n\u001b[1;32m      8\u001b[0m   \u001b[0;32mfor\u001b[0m \u001b[0mi\u001b[0m \u001b[0;32min\u001b[0m \u001b[0mrange\u001b[0m\u001b[0;34m(\u001b[0m\u001b[0mlen\u001b[0m\u001b[0;34m(\u001b[0m\u001b[0mcx_inds\u001b[0m\u001b[0;34m)\u001b[0m\u001b[0;34m-\u001b[0m\u001b[0;36m2\u001b[0m\u001b[0;34m)\u001b[0m\u001b[0;34m:\u001b[0m\u001b[0;34m\u001b[0m\u001b[0;34m\u001b[0m\u001b[0m\n",
            "\u001b[0;31mTypeError\u001b[0m: Rx(): incompatible function arguments. The following argument types are supported:\n    1. (self: pytket._tket.circuit.Circuit, angle: typing.Union[sympy.Expr, float], qubit: int, **kwargs) -> pytket._tket.circuit.Circuit\n    2. (self: pytket._tket.circuit.Circuit, angle: typing.Union[sympy.Expr, float], qubit: pytket._tket.unit_id.Qubit, **kwargs) -> pytket._tket.circuit.Circuit\n\nInvoked with: [Rz(1) q[1]; Rz(1) q[2]; CX q[0], q[1]; H q[0]; H q[1]; CX q[0], q[1]; H q[0]; H q[1]; ], 0, -1.5707963267948966"
          ]
        }
      ]
    },
    {
      "cell_type": "markdown",
      "metadata": {
        "id": "VU6S9z9Ha5Xi"
      },
      "source": [
        "## Overview:\n",
        "\n",
        "In the following there are two sections which can be explored independently from each other. The first is about non-commuting Hamiltonians and Trotterization. The second one is about some concrete physical examples of time evolution using quantum circuits for the XXZ Heisenberg model.\n",
        "\n",
        "Each section contains a list of tasks which you can work on. However, you can also get creative and explore other related directions or tasks which might be interesting. After working on those paths, you can of course also try to come up with interesting ideas how to combine concepts from both sections."
      ]
    },
    {
      "cell_type": "code",
      "execution_count": null,
      "metadata": {
        "id": "-JwcVBX6a5Xi"
      },
      "outputs": [],
      "source": []
    },
    {
      "cell_type": "markdown",
      "metadata": {
        "id": "fN1d0K13a5Xj"
      },
      "source": [
        "## Section 1: Non-commuting Hamiltonians and Trotterization\n",
        "\n",
        "In this section we investigate the dependence of the Trotter error on the Trotter step size."
      ]
    },
    {
      "cell_type": "markdown",
      "metadata": {
        "id": "zLICX5vga5Xj"
      },
      "source": [
        "The XXZ Heisenberg model above has only commuting terms. In general this is not the case, and need to be more careful in implementing the time evolution under $H$.\n",
        "\n",
        "Let $A$ and $B$ be square matrices. As discussed above\n",
        "$$\n",
        "[A, B] = AB-BA = 0 \\implies e^{-i(A + B)} = e^{-iA} e^{-iB}\n",
        "$$\n",
        "\n",
        "However if the matrices $A$ and $B$ do not commute then we have an error term to deal with\n",
        "$$\n",
        "||A|| < \\delta\\,, \\quad ||B|| < \\delta \\implies e^{-i(A + B)} = e^{-iA} e^{-iB} + \\mathcal{O}(\\delta^2)\n",
        "$$\n",
        "Here $||.||$ denotes the spectral norm.\n",
        "$$\n",
        "|| A || := \\max_{|\\psi\\rangle \\neq 0} \\frac{||A|\\psi\\rangle ||}{|| \\, |\\psi\\rangle||}\n",
        "$$\n",
        "\n",
        "Now suppose we have a Hamiltonian $H$ expressed as a sum of Hermitian matrices $H_k$.\n",
        "$$\n",
        "H = \\sum_{i=1}^m H_i\n",
        "$$\n",
        "Here, the operators $H_k$ could be the weighted Pauli strings above $H_i = \\alpha_i P_i$.\n",
        "In generalt $[H_i, H_j] \\neq 0$. In this case\n",
        "$$\n",
        "e^{-i H_1 t}e^{-i H_2 t}... e^{-i H_m t} \\neq e^{-i( H_1 + ... H_m) t} \\,.\n",
        "$$\n",
        "However, one can show that for a given target accuracy $\\epsilon$, we can find a (probably large) $p \\in \\mathbb{N}$, such that the distance between both time evolution operators is small,\n",
        "$$\n",
        "|| \\big( e^{-i H_1 t/p}e^{-i H_2 t /p}... e^{-i H_m t/p}\\big)^p - e^{-i( H_1 + ... H_m) t} || \\leq \\epsilon \\,.\n",
        "$$\n",
        "\n",
        "If the $H_i$ are, as assumed above, Pauli strings, we can implement $e^{-i H_1 t/p}e^{-i H_2 t /p}... e^{-i H_m t/p}$ as a quantum circuit and concatenate it $p$ times to obtain a $\\epsilon$-close approximation of the target evolution $e^{-i( H_1 + ... H_m) t}$. The factorization formula $e^{-i H_1 t/p}e^{-i H_2 t /p}... e^{-i H_m t/p}$ is called \"first-order Trotterization\" of $H$. There are higher order Trotterization formulas which are more accurate but also more difficult to implement. We will discuss a few of them below."
      ]
    },
    {
      "cell_type": "markdown",
      "metadata": {
        "id": "JtYjH_lKa5Xk"
      },
      "source": [
        "### Task 1: Implement the transverse field Ising model."
      ]
    },
    {
      "cell_type": "markdown",
      "metadata": {
        "id": "OuqBEOa9a5Xk"
      },
      "source": [
        "The transverse field Ising model is given by\n",
        "$$\n",
        "H_\\mathrm{Ising} = - J \\sum_{i=1}^{N-1} Z^{(i)} Z^{(i+1)} + g\\sum_{i=1}^N X^{(i)}\n",
        "$$\n",
        "with interaction strength $J$ and transverse field strength $g$. We can set $g=1$ and $J=1.2$ in the following, but other parameter values can be explored."
      ]
    },
    {
      "cell_type": "code",
      "execution_count": 158,
      "metadata": {
        "id": "_Ht8-ONKa5Xl",
        "outputId": "6a132e30-0ca3-4ed2-f4e0-9d6690805b9c",
        "colab": {
          "base_uri": "https://localhost:8080/"
        }
      },
      "outputs": [
        {
          "output_type": "execute_result",
          "data": {
            "text/plain": [
              "{(Zq[0], Zq[1]): 1.20000000000000,\n",
              " (Zq[1], Zq[2]): 1.20000000000000,\n",
              " (Zq[2], Zq[3]): 1.20000000000000,\n",
              " (Zq[3], Zq[4]): 1.20000000000000,\n",
              " (Xq[0]): 1.00000000000000,\n",
              " (Xq[1]): 1.00000000000000,\n",
              " (Xq[2]): 1.00000000000000,\n",
              " (Xq[3]): 1.00000000000000,\n",
              " (Xq[4]): 1.00000000000000}"
            ]
          },
          "metadata": {},
          "execution_count": 158
        }
      ],
      "source": [
        "j = 1.2\n",
        "g = 1.0\n",
        "n_qubits = 5\n",
        "def get_ising_hamiltonian(n_qubits: int,j:float,g:float) -> QubitPauliOperator:\n",
        "    sites = nx.path_graph(n_qubits)\n",
        "    qpo_dict = {}\n",
        "    for e in sites.edges:\n",
        "        zz_term = QubitPauliString([Qubit(e[0]), Qubit(e[1])], [Pauli.Z, Pauli.Z])\n",
        "        qpo_dict[zz_term] = j\n",
        "    for ex in sites.nodes:\n",
        "        x_term = QubitPauliString(Qubit(ex), Pauli.X)\n",
        "        qpo_dict[x_term] = g\n",
        "\n",
        "    return QubitPauliOperator(qpo_dict)\n",
        "ising_ham = get_ising_hamiltonian(n_qubits=n_qubits,j=j,g=g)\n",
        "ising_ham._dict"
      ]
    },
    {
      "cell_type": "markdown",
      "metadata": {
        "id": "Iqq_OsPpa5Xl"
      },
      "source": [
        "### Task 2: Trotter error scaling and higher order Trotterization formulas\n",
        "\n",
        "- Implement first and second order Trotterizations\n",
        "- You can also implement even higher order Trotterizations. Higher-order Trotterization formulas are given e.g. in Eq. (13) and (14) in [3].\n",
        "- Implement the classical simulation of the quantum evolution using e.g. `numpy`. This you will need to quantify the Trotter error. You get the Trotter error by taking the distance between the state vector prepared with the Trotterized circuit, and the state vector prepared with the numerically exact classical numpy method.\n",
        "- Plot the Trotter errors vs number of Trotter steps in a double-log plot\n",
        "\n",
        "\n",
        "Hint:\n",
        "- For example, for two non-commuting operators $A,B$, the second order Trotterization reads [4]\n",
        "$$\n",
        "e^{-i t (A + B)} = e^{-i t A / 2} e^{-i t B} e^{-it A / 2}\n",
        "$$\n",
        "- Use an empty circuit to initialize the time evolution circuit. This means we are starting with the state $\\ket{\\psi} = \\ket{0}^{\\otimes N}$, where all the qubits are in the zero state.\n",
        "- You can also explore other initial states.\n",
        "- To get the state vector of the quantum circuit, you may want to use the backend `AerStateBackend()` (`from pytket.extensions.qiskit import AerStateBackend`).\n",
        "- You can get the matrix representation of a `QubitPauliOperator` with `to_sparse_matrix()` as described above.\n",
        "- The quantum circuit is initialized with the all zero state $\\ket{\\psi} = \\ket{0}^{\\otimes N}$. The corresponding initial vector for the classical numpy simulation is $v = (1, 0, \\dots , 0)\\in \\mathbb{R}^{2^n}$."
      ]
    },
    {
      "cell_type": "markdown",
      "metadata": {
        "id": "hi2qGvaxa5Xl"
      },
      "source": [
        "E.g. use.."
      ]
    },
    {
      "cell_type": "code",
      "execution_count": 167,
      "metadata": {
        "id": "36Mj_ABXa5Xl",
        "outputId": "10d2c5e1-8aa6-4c1d-a79f-4133dbb9df48",
        "colab": {
          "base_uri": "https://localhost:8080/"
        }
      },
      "outputs": [
        {
          "output_type": "stream",
          "name": "stdout",
          "text": [
            "[1, 21, 41, 61, 81, 101, 121, 141, 161, 181, 201]\n"
          ]
        }
      ],
      "source": [
        "t = 1\n",
        "n_trotter_steps = list(range(1, 202, 20))\n",
        "for i in n_trotter_steps:\n",
        ""
      ]
    },
    {
      "cell_type": "code",
      "execution_count": null,
      "metadata": {
        "id": "GxgrU-oVa5Xm"
      },
      "outputs": [],
      "source": [
        "ham_to_circ(pauli_strings,indexs,coefficients,circ,t)"
      ]
    },
    {
      "cell_type": "markdown",
      "metadata": {
        "id": "CcQiFou9a5Xm"
      },
      "source": [
        "### Task 3: Do the same for the XXZ model\n",
        "\n",
        "What would you expect. Why is there no Trotter error?"
      ]
    },
    {
      "cell_type": "code",
      "execution_count": null,
      "metadata": {
        "id": "9R2gl8JFa5Xn"
      },
      "outputs": [],
      "source": []
    },
    {
      "cell_type": "markdown",
      "metadata": {
        "id": "BrX43ms_a5Xn"
      },
      "source": [
        "### Task 4: Influence of noise\n",
        "\n",
        "As a next step, we study the influence of noise. Using Quantinuum noise models, we can simulate the circuit under approximately realistic conditions. We focus on the transverse field Ising model in the following.\n",
        "\n",
        "In general, there will be a trade-off between Trotter error and noise. Smaller Trotter steps will reduce the Trotter error but also increase the circuit complexity, e.g. the number of two-qubit gates. This will generally increase errors coming from the noisy hardware.\n",
        "\n",
        "Explore this trade-off by simulating the Trotter circuit for varied Trotter step sizes and noise parameters."
      ]
    },
    {
      "cell_type": "code",
      "execution_count": null,
      "metadata": {
        "id": "25Dv8UQVa5Xo"
      },
      "outputs": [],
      "source": []
    },
    {
      "cell_type": "markdown",
      "metadata": {
        "id": "T7pBGxb3a5Xo"
      },
      "source": [
        "### Task 5: Other Hamiltonians\n",
        "\n",
        "You can try to implement other Hamiltonians you can find in the literature."
      ]
    },
    {
      "cell_type": "code",
      "execution_count": null,
      "metadata": {
        "id": "uw6Br4s0a5Xp"
      },
      "outputs": [],
      "source": []
    },
    {
      "cell_type": "markdown",
      "metadata": {
        "id": "PVTNlftla5Xp"
      },
      "source": [
        "## Section 2: Simulating quantum systems\n",
        "\n",
        "In the following we study several physically interesting cases of quantum system dynamics for the XXZ Hamiltonian."
      ]
    },
    {
      "cell_type": "code",
      "execution_count": null,
      "metadata": {
        "id": "CuSkatu6a5Xp"
      },
      "outputs": [],
      "source": [
        "import numpy as np\n",
        "from matplotlib import pyplot as plt\n",
        "\n",
        "from pytket.utils.expectations import get_operator_expectation_value\n",
        "from pytket.extensions.qiskit import AerBackend\n",
        "import time\n",
        "\n",
        "aer_sim = AerBackend()"
      ]
    },
    {
      "cell_type": "markdown",
      "metadata": {
        "id": "P9XznXTUa5Xp"
      },
      "source": [
        "Let's first define our Hamiltonian again. We focus on the XXZ Heisenberg model here."
      ]
    },
    {
      "cell_type": "code",
      "execution_count": null,
      "metadata": {
        "id": "Nd2_vbIXa5Xs",
        "outputId": "76e79a11-b3d1-4ddc-89f3-a0ffb5136860"
      },
      "outputs": [
        {
          "name": "stdout",
          "output_type": "stream",
          "text": [
            "{(Zq[0], Zq[1]): 1.72000000000000, (Xq[0], Xq[1]): 1.00000000000000, (Yq[0], Yq[1]): 1.00000000000000, (Zq[1], Zq[2]): 1.72000000000000, (Xq[1], Xq[2]): 1.00000000000000, (Yq[1], Yq[2]): 1.00000000000000, (Zq[2], Zq[3]): 1.72000000000000, (Xq[2], Xq[3]): 1.00000000000000, (Yq[2], Yq[3]): 1.00000000000000, (Zq[3], Zq[4]): 1.72000000000000, (Xq[3], Xq[4]): 1.00000000000000, (Yq[3], Yq[4]): 1.00000000000000}\n"
          ]
        }
      ],
      "source": [
        "n_qubits = 5\n",
        "Delta_ZZ = 1.72\n",
        "\n",
        "xxz_ham = get_xxz_chain_hamiltonian(n_qubits=n_qubits, Delta_ZZ=Delta_ZZ)\n",
        "print(xxz_ham)"
      ]
    },
    {
      "cell_type": "code",
      "execution_count": null,
      "metadata": {
        "id": "C6GArPX3a5Xt"
      },
      "outputs": [],
      "source": []
    },
    {
      "cell_type": "markdown",
      "metadata": {
        "id": "zKt_8q6Fa5Xt"
      },
      "source": [
        "### Task 1: Energy conservation\n",
        "\n",
        "The expectation value of the Hamiltonian $H$ gives the energy of the system. This energy does not change during unitary time evolution of the system, i.e. if the initial state has energy $E$, the energy of the system will be $E$ for all times.\n",
        "\n",
        "Below we will test how good our Trotterized circuit fulfills energy conservation."
      ]
    },
    {
      "cell_type": "markdown",
      "metadata": {
        "id": "q7tZ38Xua5Xu"
      },
      "source": [
        "We start by computing the energy of the initial zero state $\\ket{\\psi} = \\ket{0}^{\\otimes N}$. This is the default initial state if one generates an empty circuit without any further gates. We compute the expectation of $H$ using the `pytket` function `get_operator_expectation_value`. For simulating the (empty) circuit simulation we use the AerBackend and choose 1000 shots. The expectation value of any Hermitian operator is real. Because we are doing numerics, there might be a negligible imaginary part of order machine precision, which we can just discard."
      ]
    },
    {
      "cell_type": "code",
      "execution_count": null,
      "metadata": {
        "id": "TYwVRE4-a5Xu",
        "outputId": "28e37087-27b5-484d-b57b-df997afb762f"
      },
      "outputs": [
        {
          "name": "stdout",
          "output_type": "stream",
          "text": [
            "Energy: 6.809999999999999\n"
          ]
        }
      ],
      "source": [
        "n_qubits = 5\n",
        "n_shots = 1000\n",
        "\n",
        "initial_state_circtuit = Circuit(n_qubits=n_qubits, name=\"Initial state\")\n",
        "energy = get_operator_expectation_value(initial_state_circtuit, xxz_ham, aer_sim, n_shots=n_shots)\n",
        "print(\"Energy:\", energy.real)"
      ]
    },
    {
      "cell_type": "markdown",
      "metadata": {
        "id": "jByuRNNza5Xu"
      },
      "source": [
        "Test how the energy is changing if you apply a few simple gates before you compute the expectation value with `get_operator_expectation_value`."
      ]
    },
    {
      "cell_type": "markdown",
      "metadata": {
        "id": "L12iAvDDa5Xv"
      },
      "source": [
        "Next we check if the energy is conserved under system evolution.\n",
        "- Use `t_max = 20`, discretize the interval `[1, t_max]` into several steps, e.g. `times = np.linspace(1, 20, 5)`, and generate the time evolution circuit for each `t` in `times`. You can use e.g. $\\Delta t = 3$.\n",
        "- Use `time_evolution_circ_compiled = aer_sim.get_compiled_circuit(time_evolution_circ, optimisation_level = 2)` to compile and optimize the circuit. Optimization will result in shorter simulation times.\n",
        "- Monitor the number of two-qubit gates of the compiled and uncompiled circuits as you change `t`. You get this number in pytket via `circ.2_qb_gates()`.\n",
        "- Compute the energy expectation at the output of each of those circuits. You can use a smaller number of shots, e.g. `n_shots = 100`, for this.\n",
        "- Plot the obtained energy expectation values against `times`.\n",
        "\n",
        "Hints:\n",
        "- To get two-qubit gate counts of the uncompiled circuit, you will probably need to decompose all boxes with `DecomposeBoxes().apply(time_evolution_circ)` before getting the gate count with `time_evolution_circ.n_2qb_gates()`.\n",
        "- As you will see, the optimization during compilation significantly reduces the two-qubit gate count. This will reduce the time it requires to simulate the circuit classically. Therefore, it is usually a good idea to optimize circuits before running them on either a classical simulator or actual quantum hardware.\n",
        "- You can also monitor the time to compute the expectation values for varied `t`. Plot these timings and the number of two-qubit gates versus `times`.\n",
        "- The energy expectation should roughly be the same for each `t` in `times`, i.e. stay constant."
      ]
    },
    {
      "cell_type": "code",
      "execution_count": null,
      "metadata": {
        "id": "fNT1NWtia5Xv"
      },
      "outputs": [],
      "source": [
        "t_max = 20\n",
        "n_shots = 100\n",
        "times = np.linspace(1, t_max, 5)\n",
        "trotter_step_size = 3"
      ]
    },
    {
      "cell_type": "code",
      "execution_count": null,
      "metadata": {
        "id": "eyIbxjHTa5Xv"
      },
      "outputs": [],
      "source": []
    },
    {
      "cell_type": "markdown",
      "metadata": {
        "id": "PvTegaH4a5Xw"
      },
      "source": [
        "### Task 2: Influence of noise\n",
        "\n",
        "Study how hardware noise, emulated with e.g. the Quantinuum noise models, affects the results."
      ]
    },
    {
      "cell_type": "code",
      "execution_count": null,
      "metadata": {
        "id": "vCTiamIba5Xw"
      },
      "outputs": [],
      "source": []
    },
    {
      "cell_type": "markdown",
      "metadata": {
        "id": "CBwo2KTba5Xw"
      },
      "source": [
        "### Task 3: Hamiltonian system dynamics\n",
        "\n",
        "Compute time dependent expectation values for other observable, for example $X^{(i)}$ for one of the qubits $i$, or a correlator $X^{(i)} X^{(j)}$. Would you expect these expectation values to vary in time?"
      ]
    },
    {
      "cell_type": "code",
      "execution_count": null,
      "metadata": {
        "id": "J_porA2Va5Xw"
      },
      "outputs": [],
      "source": []
    },
    {
      "cell_type": "markdown",
      "metadata": {
        "id": "KN52F1C0a5Xx"
      },
      "source": [
        "### Task 4: Hamiltonian system dynamics\n",
        "\n",
        "Diagonalise the Hamiltonian numerically and obtain two eigenstates with different energies, for example take eigenstates of the two lowest energy levels. Use build-in functionality, such as pytket's `StatePreparationBox` to prepare a uniform superposition $\\ket{\\psi}$ of both states with a quantum circuit.\n",
        "\n",
        "Simulate the time evolution of the expectation value of $Z_i$ (or any other easy observable) with $\\ket{\\psi}$ as initial state, and plot the time evolution. What do you expect? How does the frequency of oscillation relate to the energy levels of the Hamiltonian?"
      ]
    },
    {
      "cell_type": "code",
      "execution_count": null,
      "metadata": {
        "id": "PLEi2Gpca5Xx"
      },
      "outputs": [],
      "source": []
    },
    {
      "cell_type": "markdown",
      "metadata": {
        "id": "aUCYDgAUa5Xx"
      },
      "source": [
        "### Task 5: Time evolution of the Ising model\n",
        "\n",
        "You can explore the above tasks for the Ising model instead of the XXZ model. Since the Ising model suffers Trotterization error, you might find that this model conserves energy less accurate as the XXZ model."
      ]
    },
    {
      "cell_type": "code",
      "execution_count": null,
      "metadata": {
        "id": "FfLzBxXwa5Xy"
      },
      "outputs": [],
      "source": []
    },
    {
      "cell_type": "code",
      "execution_count": null,
      "metadata": {
        "id": "Bw8UMGrxa5Xy"
      },
      "outputs": [],
      "source": []
    },
    {
      "cell_type": "code",
      "execution_count": null,
      "metadata": {
        "id": "wWemJU2ya5Xy"
      },
      "outputs": [],
      "source": []
    }
  ],
  "metadata": {
    "kernelspec": {
      "display_name": ".venv",
      "language": "python",
      "name": "python3"
    },
    "language_info": {
      "codemirror_mode": {
        "name": "ipython",
        "version": 3
      },
      "file_extension": ".py",
      "mimetype": "text/x-python",
      "name": "python",
      "nbconvert_exporter": "python",
      "pygments_lexer": "ipython3",
      "version": "3.11.4"
    },
    "colab": {
      "provenance": []
    }
  },
  "nbformat": 4,
  "nbformat_minor": 0
}